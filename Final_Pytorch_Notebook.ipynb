{
  "nbformat": 4,
  "nbformat_minor": 0,
  "metadata": {
    "colab": {
      "provenance": [],
      "gpuType": "T4"
    },
    "kernelspec": {
      "name": "python3",
      "display_name": "Python 3"
    },
    "language_info": {
      "name": "python"
    },
    "accelerator": "GPU"
  },
  "cells": [
    {
      "cell_type": "markdown",
      "source": [
        "# Introduction to PyTorch with NLP\n",
        "\n",
        "PyTorch is a popular open-source deep learning framework developed by Facebook’s AI Research lab that provides flexibility and dynamic computational graphs, making it highly favored for research and production purposes. With its intuitive interface, PyTorch allows developers to build and train complex neural networks with ease.\n",
        "\n",
        "A computation graph is a network of nodes where each node represents an operation or variable, and the edges represent data dependencies between operations. Dynamic computation graphs are particularly useful in Natural Language Processing (NLP), where the input data, such as sentences or sequences, can vary in length and structure. PyTorch’s dynamic nature allows the graph to adapt to different input shapes and sizes, making it easier to handle complex tasks like sequence-to-sequence learning, attention mechanisms, and more.\n",
        "\n",
        "### Documentation for PyTorch\n",
        "[PyTorch Documentation](https://pytorch.org/docs/stable/index.html)"
      ],
      "metadata": {
        "id": "odHbCocfq5Ps"
      }
    },
    {
      "cell_type": "markdown",
      "source": [
        "# Tensors\n",
        "Tensors are the core data structure in PyTorch, analogous to arrays and matrices in NumPy but with additional capabilities. A tensor is a multi-dimensional array that serves as the basic building block for deep learning models. They can hold data of various types, such as integers, floating-point numbers, or even complex numbers, and can operate on GPUs, making them highly efficient for large-scale computations."
      ],
      "metadata": {
        "id": "kzUk0ZRV4_ib"
      }
    },
    {
      "cell_type": "code",
      "source": [
        "import torch\n",
        "import numpy as np"
      ],
      "metadata": {
        "id": "fm_ogLRCs0tD"
      },
      "execution_count": 1,
      "outputs": []
    },
    {
      "cell_type": "code",
      "source": [
        "a = torch.ones(3,3)\n",
        "print(a)"
      ],
      "metadata": {
        "colab": {
          "base_uri": "https://localhost:8080/"
        },
        "id": "Hfd2h-QLrXIM",
        "outputId": "e2146016-492b-481d-d494-e73a5deed058"
      },
      "execution_count": 2,
      "outputs": [
        {
          "output_type": "stream",
          "name": "stdout",
          "text": [
            "tensor([[1., 1., 1.],\n",
            "        [1., 1., 1.],\n",
            "        [1., 1., 1.]])\n"
          ]
        }
      ]
    },
    {
      "cell_type": "code",
      "source": [
        "b = a.numpy()\n",
        "print(b)"
      ],
      "metadata": {
        "colab": {
          "base_uri": "https://localhost:8080/"
        },
        "id": "FyvGs6vtsrrg",
        "outputId": "266a8625-3a5a-4021-af60-1a5f88ca65bb"
      },
      "execution_count": 3,
      "outputs": [
        {
          "output_type": "stream",
          "name": "stdout",
          "text": [
            "[[1. 1. 1.]\n",
            " [1. 1. 1.]\n",
            " [1. 1. 1.]]\n"
          ]
        }
      ]
    },
    {
      "cell_type": "code",
      "source": [
        "# Now changing the value of 'a' will also change the value of 'b'\n",
        "a.add_(1)\n",
        "print(a)\n",
        "print(b)"
      ],
      "metadata": {
        "colab": {
          "base_uri": "https://localhost:8080/"
        },
        "id": "5iElfOy0s5UN",
        "outputId": "629f5832-57c5-4ee0-a3d5-998b2cb1faac"
      },
      "execution_count": 4,
      "outputs": [
        {
          "output_type": "stream",
          "name": "stdout",
          "text": [
            "tensor([[2., 2., 2.],\n",
            "        [2., 2., 2.],\n",
            "        [2., 2., 2.]])\n",
            "[[2. 2. 2.]\n",
            " [2. 2. 2.]\n",
            " [2. 2. 2.]]\n"
          ]
        }
      ]
    },
    {
      "cell_type": "markdown",
      "source": [
        "The code snippet demonstrates the concept of in-place operations and tensor aliasing in PyTorch. When you perform an in-place operation (e.g., a.add_(1)), it modifies the original tensor a directly without creating a new tensor. If another tensor, b, shares the same underlying data as a (i.e., they are aliases), then modifying a will also affect b."
      ],
      "metadata": {
        "id": "VVD3hXhA43ek"
      }
    },
    {
      "cell_type": "markdown",
      "source": [
        "## Location of tensors\n",
        "In PyTorch, the location of tensors—whether on a CPU or GPU—directly impacts the performance and functionality of your code. Tensors can be stored on different devices, and operations on tensors must be performed on the same device to avoid errors and inefficiencies.\n",
        "\n",
        "## Importance of Tensor Location Management\n",
        "\n",
        "1.\tPerformance Optimization: Moving tensors to the GPU can significantly accelerate computations, as GPUs are designed to handle matrix operations much more efficiently than CPUs. This is especially important for training deep learning models where large amounts of data and complex operations are involved.\n",
        "2.\tError Prevention: PyTorch requires all tensors involved in a computation to be on the same device. If operations are attempted between tensors on different devices (e.g., adding a CPU tensor to a GPU tensor), it will result in a runtime error like RuntimeError: Expected all tensors to be on the same device, but found at least two devices, cuda:0 and cpu!. Properly managing tensor locations ensures compatibility and prevents such errors.\n",
        "3.\tMemory Management: GPUs have limited memory compared to CPUs. Properly managing tensor locations helps efficiently utilize GPU memory and avoid issues like out-of-memory errors. Moving tensors to the appropriate device only when needed can help balance memory usage across devices.\n",
        "\n",
        "\n",
        "Below is a code snippet explaining critical aspects of tensor location management in PyTorch, highlighting performance benefits and common pitfalls."
      ],
      "metadata": {
        "id": "Ca9Ei4ML3-2D"
      }
    },
    {
      "cell_type": "code",
      "source": [
        "import torch\n",
        "\n",
        "# Check if a GPU is available\n",
        "device = torch.device(\"cuda\" if torch.cuda.is_available() else \"cpu\")\n",
        "\n",
        "# Create a tensor on the CPU\n",
        "x_cpu = torch.tensor([1.0, 2.0, 3.0])\n",
        "\n",
        "# Create a tensor on the GPU (if available)\n",
        "x_gpu = torch.tensor([4.0, 5.0, 6.0], device=device)\n",
        "\n",
        "# Demonstrating Performance Optimization by moving CPU tensor to GPU\n",
        "# Moving x_cpu to the GPU can accelerate computations\n",
        "x_cpu = x_cpu.to(device)\n",
        "\n",
        "# Performing operations on the same device (GPU in this case)\n",
        "result = x_cpu + x_gpu\n",
        "print(\"Result on GPU:\", result)\n",
        "\n",
        "# Demonstrating Error Prevention\n",
        "# This will cause an error if x_cpu is not moved to the GPU\n",
        "try:\n",
        "    # Attempting an operation between tensors on different devices\n",
        "    x_cpu = torch.tensor([1.0, 2.0, 3.0])  # Back on CPU\n",
        "    error_result = x_cpu + x_gpu\n",
        "except RuntimeError as e:\n",
        "    print(\"Error:\", e)\n",
        "\n",
        "# Demonstrating Memory Management\n",
        "# Moving the result back to the CPU to free up GPU memory\n",
        "result = result.to(\"cpu\")\n",
        "print(\"Result moved back to CPU:\", result)"
      ],
      "metadata": {
        "id": "hlEpgNO3uTzg",
        "colab": {
          "base_uri": "https://localhost:8080/"
        },
        "outputId": "18d7b120-2244-43b1-c4f4-f0dcf6bb948f"
      },
      "execution_count": 5,
      "outputs": [
        {
          "output_type": "stream",
          "name": "stdout",
          "text": [
            "Result on GPU: tensor([5., 7., 9.], device='cuda:0')\n",
            "Error: Expected all tensors to be on the same device, but found at least two devices, cuda:0 and cpu!\n",
            "Result moved back to CPU: tensor([5., 7., 9.])\n"
          ]
        }
      ]
    },
    {
      "cell_type": "markdown",
      "source": [
        "## Broadcasting\n",
        "\n",
        "Broadcasting is a method used in PyTorch (and other libraries like NumPy) that allows arithmetic operations on tensors of different shapes by automatically expanding the smaller tensor(s) to match the shape of the larger one. Broadcasting follows a set of rules to make the tensors compatible without explicitly copying data, allowing efficient computation even when the shapes initially do not match.\n",
        "\n",
        "## How is Broadcasting Done?\n",
        "Broadcasting follows a set of rules to determine how to expand the smaller tensor to match the shape of the larger one:\n",
        "\n",
        "1.\tAlignment from the Right: Tensors are aligned from the right when comparing their shapes. For instance, to broadcast (4, 3, 2) with (3, 2), align as follows:\n",
        "\n",
        "$$\n",
        "(4, 3, 2) \\\\\n",
        "( , 3, 2)\n",
        "$$\n",
        "\n",
        "2.\tDimension Compatibility: Two dimensions are compatible if:\n",
        "-\tThey are equal.\n",
        "-\tOne of them is 1. In this case, the dimension with 1 is stretched to match the other dimension.\n",
        "3.\tExpansion: Dimensions with 1 are virtually expanded to match the corresponding dimension of the other tensor without physically copying data.\n",
        "\n",
        "Consider two tensors A and B:\n",
        "\n",
        "- Let A be of shape (3, 1):\n",
        "\n",
        "$$\n",
        "A =\n",
        "\\begin{bmatrix}\n",
        "1 \\\\\n",
        "2 \\\\\n",
        "3\n",
        "\\end{bmatrix}\n",
        "$$\n",
        "\n",
        "- Let B be of shape (1, 4):\n",
        "\n",
        "$$\n",
        "B =\n",
        "\\begin{bmatrix}\n",
        "10 & 20 & 30 & 40\n",
        "\\end{bmatrix}\n",
        "$$\n",
        "\n",
        "When performing the operation A + B, broadcasting expands A and B to a compatible shape (3, 4):\n",
        "\n",
        "1.\tExpand A along columns:\n",
        "\n",
        "$$\n",
        "A_{\\text{expanded}} =\n",
        "\\begin{bmatrix}\n",
        "1 & 1 & 1 & 1 \\\\\n",
        "2 & 2 & 2 & 2 \\\\\n",
        "3 & 3 & 3 & 3\n",
        "\\end{bmatrix}\n",
        "$$\n",
        "\n",
        "2.\tExpand B along rows:\n",
        "\n",
        "$$\n",
        "B_{\\text{expanded}} =\n",
        "\\begin{bmatrix}\n",
        "10 & 20 & 30 & 40 \\\\\n",
        "10 & 20 & 30 & 40 \\\\\n",
        "10 & 20 & 30 & 40\n",
        "\\end{bmatrix}\n",
        "$$\n",
        "\n",
        "Now, you can perform element-wise addition:\n",
        "\n",
        "$$\n",
        "A + B =\n",
        "\\begin{bmatrix}\n",
        "1+10 & 1+20 & 1+30 & 1+40 \\\\\n",
        "2+10 & 2+20 & 2+30 & 2+40 \\\\\n",
        "3+10 & 3+20 & 3+30 & 3+40\n",
        "\\end{bmatrix} =\n",
        "\\begin{bmatrix}\n",
        "11 & 21 & 31 & 41 \\\\\n",
        "12 & 22 & 32 & 42 \\\\\n",
        "13 & 23 & 33 & 43\n",
        "\\end{bmatrix}\n",
        "$$"
      ],
      "metadata": {
        "id": "fwIHhppJXXS3"
      }
    },
    {
      "cell_type": "code",
      "source": [
        "import torch\n",
        "\n",
        "# 2D tensor (batch of vectors)\n",
        "tensor_2d = torch.tensor([[1, 2, 3], [4, 5, 6]])\n",
        "print(\"2D Tensor:\")\n",
        "print(tensor_2d)\n",
        "\n",
        "# 1D tensor (vector)\n",
        "tensor_1d = torch.tensor([10, 20, 30])\n",
        "print(\"1D Tensor:\")\n",
        "print(tensor_1d)\n",
        "\n",
        "# Broadcasting\n",
        "result = tensor_2d + tensor_1d\n",
        "print(\"Result after broadcasting:\")\n",
        "print(result)"
      ],
      "metadata": {
        "colab": {
          "base_uri": "https://localhost:8080/"
        },
        "id": "G0oat928XaSr",
        "outputId": "932ceb56-1576-4132-e4a2-f64f39ac8ed9"
      },
      "execution_count": 6,
      "outputs": [
        {
          "output_type": "stream",
          "name": "stdout",
          "text": [
            "2D Tensor:\n",
            "tensor([[1, 2, 3],\n",
            "        [4, 5, 6]])\n",
            "1D Tensor:\n",
            "tensor([10, 20, 30])\n",
            "Result after broadcasting:\n",
            "tensor([[11, 22, 33],\n",
            "        [14, 25, 36]])\n"
          ]
        }
      ]
    },
    {
      "cell_type": "code",
      "source": [
        "import torch\n",
        "\n",
        "# Tensor with shape (2, 3)\n",
        "tensor_2d = torch.tensor([[1, 2, 3], [4, 5, 6]])\n",
        "print(\"2D Tensor:\")\n",
        "print(tensor_2d)\n",
        "\n",
        "# Tensor with shape (2, 2) - This is incompatible for broadcasting\n",
        "tensor_incompatible = torch.tensor([[10, 20], [30, 40]])\n",
        "print(\"Incompatible Tensor:\")\n",
        "print(tensor_incompatible)\n",
        "\n",
        "try:\n",
        "    result = tensor_2d + tensor_incompatible\n",
        "except RuntimeError as e:\n",
        "    print(f\"Error: {e}\")"
      ],
      "metadata": {
        "colab": {
          "base_uri": "https://localhost:8080/"
        },
        "id": "8_f-cK9DXn0t",
        "outputId": "0647421d-8c1f-4c81-f874-3a555ee9c3df"
      },
      "execution_count": 7,
      "outputs": [
        {
          "output_type": "stream",
          "name": "stdout",
          "text": [
            "2D Tensor:\n",
            "tensor([[1, 2, 3],\n",
            "        [4, 5, 6]])\n",
            "Incompatible Tensor:\n",
            "tensor([[10, 20],\n",
            "        [30, 40]])\n",
            "Error: The size of tensor a (3) must match the size of tensor b (2) at non-singleton dimension 1\n"
          ]
        }
      ]
    },
    {
      "cell_type": "markdown",
      "source": [
        "## Let's take an example of Multi-Class Classification\n",
        "\n",
        "We will explore multi-class classification using a real-world dataset of tweets annotated with various emotions. The goal is to build a model that can accurately classify the emotion expressed in a given tweet into one of several categories, such as sadness, enthusiasm, anger, joy, and others.\n",
        "\n",
        "The dataset tweet_emotions.csv contains three columns:\n",
        "\n",
        "1.\ttweet_id: A unique identifier for each tweet.\n",
        "2.\tsentiment: The emotion or sentiment expressed in the tweet. This is the target variable with multiple classes, such as empty, sadness, enthusiasm, neutral, and others.\n",
        "3.\tcontent: The text of the tweet, representing the input features used for classification."
      ],
      "metadata": {
        "id": "8NBTUwy5yBVL"
      }
    },
    {
      "cell_type": "markdown",
      "source": [
        "## Loading the Dataset\n",
        "\n",
        "A DataFrame is a two-dimensional, tabular data structure commonly used in data manipulation and analysis. In Python, the most popular implementation of DataFrames is provided by the Pandas library.\n",
        "\n",
        "In this step, we load the dataset containing tweets and their associated emotions using the pandas library. The dataset is stored in a CSV file, which we read into a DataFrame for easier manipulation and analysis."
      ],
      "metadata": {
        "id": "x5BddCDiyU9A"
      }
    },
    {
      "cell_type": "code",
      "source": [
        "import torch\n",
        "import torch.nn as nn\n",
        "import random\n",
        "import numpy as np\n",
        "from collections import Counter\n",
        "import re\n",
        "import html\n",
        "import pandas as pd\n",
        "from tqdm import tqdm\n",
        "import torch.nn as nn\n",
        "import torch.nn.functional as F\n",
        "from torch.utils.data import Dataset, RandomSampler, DataLoader\n",
        "from torch.nn.utils.rnn import pad_sequence\n",
        "from sklearn.metrics import accuracy_score, f1_score\n",
        "from nltk.corpus import stopwords\n",
        "from sklearn.preprocessing import OneHotEncoder\n",
        "from sklearn.metrics import confusion_matrix, ConfusionMatrixDisplay\n",
        "import seaborn as sns"
      ],
      "metadata": {
        "id": "GJHeUzzXyY1b"
      },
      "execution_count": 8,
      "outputs": []
    },
    {
      "cell_type": "code",
      "source": [
        "import pandas as pd\n",
        "\n",
        "# Load the CSV file\n",
        "file_path = 'tweet_emotions.csv'\n",
        "df = pd.read_csv(file_path)"
      ],
      "metadata": {
        "id": "aR0-2KdJyfQE"
      },
      "execution_count": 10,
      "outputs": []
    },
    {
      "cell_type": "markdown",
      "source": [
        "## Understanding the Data\n",
        "\n",
        "In this step, we examine the basic characteristics of the dataset. We'll check the structure of the DataFrame, including the column names, data types, and summary statistics. This helps us understand the kind of data we are working with and identify any preprocessing steps that might be necessary."
      ],
      "metadata": {
        "id": "qomchg8uysPY"
      }
    },
    {
      "cell_type": "code",
      "source": [
        "# Display basic information about the DataFrame\n",
        "print(\"DataFrame Info:\")\n",
        "print(df.head())"
      ],
      "metadata": {
        "colab": {
          "base_uri": "https://localhost:8080/"
        },
        "id": "oxCSiTghys7D",
        "outputId": "38171349-49ad-446f-ed39-4da32a45d794"
      },
      "execution_count": 255,
      "outputs": [
        {
          "output_type": "stream",
          "name": "stdout",
          "text": [
            "DataFrame Info:\n",
            "     tweet_id   sentiment                                            content\n",
            "0  1956967341       empty  @tiffanylue i know  i was listenin to bad habi...\n",
            "1  1956967666     sadness  Layin n bed with a headache  ughhhh...waitin o...\n",
            "2  1956967696     sadness                Funeral ceremony...gloomy friday...\n",
            "3  1956967789  enthusiasm               wants to hang out with friends SOON!\n",
            "4  1956968416     neutral  @dannycastillo We want to trade with someone w...\n"
          ]
        }
      ]
    },
    {
      "cell_type": "code",
      "source": [
        "import matplotlib.pyplot as plt\n",
        "\n",
        "# Count the number of tweets for each sentiment\n",
        "sentiment_counts = df['sentiment'].value_counts()\n",
        "\n",
        "# Create a bar plot\n",
        "plt.figure(figsize=(10, 6))\n",
        "sentiment_counts.plot(kind='bar', color='skyblue')\n",
        "plt.title('Distribution of Sentiments in Tweets')\n",
        "plt.xlabel('Sentiment')\n",
        "plt.ylabel('Number of Tweets')\n",
        "plt.xticks(rotation=45)\n",
        "plt.grid(axis='y', linestyle='--', alpha=0.7)\n",
        "plt.show()"
      ],
      "metadata": {
        "colab": {
          "base_uri": "https://localhost:8080/",
          "height": 617
        },
        "id": "cb86vyJayvDt",
        "outputId": "e0b41a5e-6c7c-4bf8-a988-7ee9d5d1fa20"
      },
      "execution_count": 256,
      "outputs": [
        {
          "output_type": "display_data",
          "data": {
            "text/plain": [
              "<Figure size 1000x600 with 1 Axes>"
            ],
            "image/png": "[encoded data removed]"
          },
          "metadata": {}
        }
      ]
    },
    {
      "cell_type": "markdown",
      "source": [
        "## Label Encoding\n",
        "\n",
        "Label encoding is a technique used to convert categorical data into numerical values. In machine learning, categorical variables (such as class labels) need to be transformed into a numerical format so that they can be used by ML models, which typically work with numerical data."
      ],
      "metadata": {
        "id": "OI93fMCGzaI3"
      }
    },
    {
      "cell_type": "code",
      "source": [
        "import pandas as pd\n",
        "from sklearn.preprocessing import OneHotEncoder, LabelEncoder\n",
        "\n",
        "\n",
        "def encode_labels(temp_df, label_column='sentiment'):\n",
        "    encoder = OneHotEncoder(sparse=False)\n",
        "    one_hot_encoded = encoder.fit_transform(df[[label_column]])\n",
        "    one_hot_encoded_int = one_hot_encoded.astype(int)\n",
        "    one_hot_vectors = one_hot_encoded_int.tolist()\n",
        "    temp_df[label_column + '_one_hot'] = one_hot_vectors\n",
        "\n",
        "    # Initialize the LabelEncoder\n",
        "    label_encoder = LabelEncoder()\n",
        "\n",
        "    # Fit and transform the sentiment column\n",
        "    temp_df[label_column + '_label'] = label_encoder.fit_transform(df[label_column])\n",
        "\n",
        "    return one_hot_vectors, encoder.get_feature_names_out([label_column]), label_encoder"
      ],
      "metadata": {
        "id": "BlRykVOOzjcY"
      },
      "execution_count": 257,
      "outputs": []
    },
    {
      "cell_type": "code",
      "source": [
        "temp_df = df\n",
        "\n",
        "one_hot_vectors, feature_names, label_encoder = encode_labels(temp_df, 'sentiment')\n",
        "\n",
        "# Display the DataFrame\n",
        "print(temp_df[['content', 'sentiment', 'sentiment_label', 'sentiment_one_hot']].head())"
      ],
      "metadata": {
        "colab": {
          "base_uri": "https://localhost:8080/"
        },
        "id": "Yn_7izEx1oSN",
        "outputId": "7965aacb-3af6-49c3-8336-b1a371e77fbd"
      },
      "execution_count": 258,
      "outputs": [
        {
          "output_type": "stream",
          "name": "stdout",
          "text": [
            "                                             content   sentiment  \\\n",
            "0  @tiffanylue i know  i was listenin to bad habi...       empty   \n",
            "1  Layin n bed with a headache  ughhhh...waitin o...     sadness   \n",
            "2                Funeral ceremony...gloomy friday...     sadness   \n",
            "3               wants to hang out with friends SOON!  enthusiasm   \n",
            "4  @dannycastillo We want to trade with someone w...     neutral   \n",
            "\n",
            "   sentiment_label                        sentiment_one_hot  \n",
            "0                2  [0, 0, 1, 0, 0, 0, 0, 0, 0, 0, 0, 0, 0]  \n",
            "1               10  [0, 0, 0, 0, 0, 0, 0, 0, 0, 0, 1, 0, 0]  \n",
            "2               10  [0, 0, 0, 0, 0, 0, 0, 0, 0, 0, 1, 0, 0]  \n",
            "3                3  [0, 0, 0, 1, 0, 0, 0, 0, 0, 0, 0, 0, 0]  \n",
            "4                8  [0, 0, 0, 0, 0, 0, 0, 0, 1, 0, 0, 0, 0]  \n"
          ]
        },
        {
          "output_type": "stream",
          "name": "stderr",
          "text": [
            "/usr/local/lib/python3.10/dist-packages/sklearn/preprocessing/_encoders.py:975: FutureWarning: `sparse` was renamed to `sparse_output` in version 1.2 and will be removed in 1.4. `sparse_output` is ignored unless you leave `sparse` to its default value.\n",
            "  warnings.warn(\n"
          ]
        }
      ]
    },
    {
      "cell_type": "markdown",
      "source": [
        "Where One-Hot Encoding is Useful:\n",
        "\n",
        "1.\tInput Features for Machine Learning Models: One-hot encoding is essential when categorical features are used as input to models like Logistic Regression, Neural Networks, or SVMs. It prevents models from assuming any ordinal relationship between categories.\n",
        "2.\tNeural Networks with Softmax and Cross-Entropy Loss: One-hot encoding is required for multi-class classification tasks where the model outputs a probability distribution. It allows for the correct computation of cross-entropy loss by comparing the predicted probabilities against the true distribution.\n",
        "\n",
        "Where Class Label Encoding is Useful:\n",
        "\n",
        "1.\tTarget Variables in Classification: Label encoding is commonly used for encoding target variables in classification tasks, converting categories into integers that models like Decision Trees, Random Forests, and SVMs can interpret correctly without assuming ordinal relationships.\n",
        "2.\tTree-Based Models: Label encoding works well with models like Decision Trees, Random Forests, and Gradient Boosted Trees, as these models treat the labels as distinct categories and do not rely on any numerical order implied by the encoding."
      ],
      "metadata": {
        "id": "CoB3MNkh3M3m"
      }
    },
    {
      "cell_type": "markdown",
      "source": [
        "### We will be using class label encoding"
      ],
      "metadata": {
        "id": "7mloKd9IUsqM"
      }
    },
    {
      "cell_type": "code",
      "source": [
        "from sklearn.preprocessing import LabelEncoder\n",
        "label_encoder = LabelEncoder()\n",
        "df['sentiment_label'] = label_encoder.fit_transform(df['sentiment'])"
      ],
      "metadata": {
        "id": "Tg26c8J5Mbl4"
      },
      "execution_count": 259,
      "outputs": []
    },
    {
      "cell_type": "markdown",
      "source": [
        "## Preprocessing\n",
        "\n",
        "Preprocessing is a critical step in Natural Language Processing (NLP) that significantly influences the performance and accuracy of machine learning models. It involves transforming raw text data into a structured format that algorithms can easily interpret and analyze. The primary goal of preprocessing is to clean, normalize, and organize textual data, removing noise and irrelevant details that could mislead the model."
      ],
      "metadata": {
        "id": "FkGul_LXyzmP"
      }
    },
    {
      "cell_type": "code",
      "source": [
        "def preprocess_string(s):\n",
        "    # Remove all non-word characters (everything except numbers and letters)\n",
        "    s = re.sub(r\"[^\\w\\s]\", '', s)\n",
        "    # Replace all runs of whitespaces with a single space\n",
        "    s = re.sub(r\"\\s+\", ' ', s)\n",
        "    # Replace digits with no space\n",
        "    s = re.sub(r\"\\d\", '', s)\n",
        "    return s"
      ],
      "metadata": {
        "id": "rYGtfOOfy841"
      },
      "execution_count": 260,
      "outputs": []
    },
    {
      "cell_type": "markdown",
      "source": [
        "## Tokenization\n",
        "\n",
        "Tokenization is a fundamental preprocessing step in Natural Language Processing (NLP) that involves breaking down text into smaller units called tokens, typically words, subwords, or characters. This step is crucial because it transforms raw text into a structured format that can be effectively processed and understood by machine learning models. Tokenization helps capture the syntactic and semantic structure of the text, allowing models to analyze the underlying patterns of language.\n",
        "\n",
        "In this notebook, we are using word-based tokenization for simplicity. Most of the SOTA models these days use subword tokenization which you will study in future lectures."
      ],
      "metadata": {
        "id": "XnwwV6MHzBNJ"
      }
    },
    {
      "cell_type": "code",
      "source": [
        "def tokenize_df(df, label_column='sentiment'):\n",
        "\n",
        "    def tokenize_text(text):\n",
        "        arr = [word for word in text.lower().split()]\n",
        "        return arr\n",
        "\n",
        "    df['tokenized'] = df['processed_text'].apply(tokenize_text)\n",
        "\n",
        "    return df"
      ],
      "metadata": {
        "id": "Q8ac95eSzCAq"
      },
      "execution_count": 261,
      "outputs": []
    },
    {
      "cell_type": "code",
      "source": [
        "from sklearn.model_selection import train_test_split\n",
        "\n",
        "# Preprocess\n",
        "df['processed_text'] = df['content'].apply(preprocess_string)\n",
        "\n",
        "drop_columns = ['tweet_id']\n",
        "final_df = df.drop(drop_columns, axis=1)\n",
        "\n",
        "# Train-test split\n",
        "train_df, val_df = train_test_split(final_df, test_size=0.2, random_state=42, stratify=df['sentiment'])\n",
        "\n",
        "# Tokenize the text in each split\n",
        "train_df = tokenize_df(train_df)\n",
        "val_df = tokenize_df(val_df)\n",
        "\n",
        "# Display the results\n",
        "print(\"Train DataFrame:\\n\", train_df.head())"
      ],
      "metadata": {
        "colab": {
          "base_uri": "https://localhost:8080/"
        },
        "id": "FcUHY8L3Ne6N",
        "outputId": "7c83f5ba-d4bb-45c3-ca3c-5729af1ee552"
      },
      "execution_count": 262,
      "outputs": [
        {
          "output_type": "stream",
          "name": "stdout",
          "text": [
            "Train DataFrame:\n",
            "       sentiment                                            content  \\\n",
            "25630   neutral                       @dizzyupthegirl thankyooooou   \n",
            "23955   neutral           just watching ncis complete first season   \n",
            "7128      worry                      @blkademic what's the matter?   \n",
            "15097      hate  i donbt like to peel prawns, i also dont like ...   \n",
            "8605    neutral  damn... people contain gluten so now i cant be...   \n",
            "\n",
            "                             sentiment_one_hot  sentiment_label  \\\n",
            "25630  [0, 0, 0, 0, 0, 0, 0, 0, 1, 0, 0, 0, 0]                8   \n",
            "23955  [0, 0, 0, 0, 0, 0, 0, 0, 1, 0, 0, 0, 0]                8   \n",
            "7128   [0, 0, 0, 0, 0, 0, 0, 0, 0, 0, 0, 0, 1]               12   \n",
            "15097  [0, 0, 0, 0, 0, 0, 1, 0, 0, 0, 0, 0, 0]                6   \n",
            "8605   [0, 0, 0, 0, 0, 0, 0, 0, 1, 0, 0, 0, 0]                8   \n",
            "\n",
            "                                          processed_text  \\\n",
            "25630                        dizzyupthegirl thankyooooou   \n",
            "23955           just watching ncis complete first season   \n",
            "7128                          blkademic whats the matter   \n",
            "15097  i donbt like to peel prawns i also dont like g...   \n",
            "8605   damn people contain gluten so now i cant be a ...   \n",
            "\n",
            "                                               tokenized  \n",
            "25630                     [dizzyupthegirl, thankyooooou]  \n",
            "23955    [just, watching, ncis, complete, first, season]  \n",
            "7128                     [blkademic, whats, the, matter]  \n",
            "15097  [i, donbt, like, to, peel, prawns, i, also, do...  \n",
            "8605   [damn, people, contain, gluten, so, now, i, ca...  \n"
          ]
        }
      ]
    },
    {
      "cell_type": "markdown",
      "source": [
        "## Vocabulary Map\n",
        "\n",
        "-\tNumerical Representation: PyTorch models, like all machine learning models, require numerical input. Raw text cannot be directly fed into a model because it consists of characters and words, which are non-numeric. Vocabulary mapping converts text tokens into numerical indices. This numerical representation allows PyTorch models to process and learn from text data.\n",
        "-\tSpecial Tokens: Special tokens are crucial for handling various aspects of text data in NLP models. They include:\n",
        " -\tPadding Token (<PAD>): Used to ensure that all sequences in a batch have the same length. Padding tokens are added to the sequences to standardize their length, which is essential for batch processing. For example, if you have sentences of varying lengths, padding tokens help to make them uniform in length.\n",
        " -\tUnknown Token (UNK): Represents words that are not found in the vocabulary. When a token is encountered that was not seen during training, it is replaced with the UNK token. This ensures that the model can handle out-of-vocabulary words gracefully.\n",
        "-\tVocabulary Map: PyTorch’s Dataset and DataLoader classes require inputs to be in tensor format for efficient training and evaluation. The vocab map allows for converting text data into numerical tensors, which are compatible with PyTorch’s data structures. This process involves:\n",
        "-\tMapping Tokens to Indices: Each unique token is assigned a numerical index based on its frequency and importance. Special tokens are typically assigned specific indices that are reserved for them.\n",
        "-\tHandling Padding and Unknown Tokens: Special tokens like <PAD> and UNK are included in the vocabulary map to handle padding and out-of-vocabulary scenarios. These tokens help manage sequence length variations and unknown words, ensuring the model can process and learn from text data effectively."
      ],
      "metadata": {
        "id": "HyLVsox38mzD"
      }
    },
    {
      "cell_type": "code",
      "source": [
        "def generate_vocab_map(df, cutoff=2):\n",
        "    # Initialize vocab with special tokens for padding and unknown\n",
        "    vocab = {\"<PAD>\": 0, \"UNK\": 1}\n",
        "    reversed_vocab = None\n",
        "\n",
        "    # Flatten the list of tokenized words and count their occurrences\n",
        "    word_counts = {}\n",
        "    for tokens in df[\"tokenized\"]:\n",
        "        for word in tokens:\n",
        "            if word in word_counts:\n",
        "                word_counts[word] += 1\n",
        "            else:\n",
        "                word_counts[word] = 1\n",
        "\n",
        "    # Assign unique indices to words that appear more than 'cutoff' times\n",
        "    word_idx = len(vocab)\n",
        "    for word, count in word_counts.items():\n",
        "        if count > cutoff:\n",
        "            vocab[word] = word_idx\n",
        "            word_idx += 1\n",
        "\n",
        "    # Generate the reversed vocab map\n",
        "    reversed_vocab = {idx: word for word, idx in vocab.items()}\n",
        "\n",
        "    return vocab, reversed_vocab"
      ],
      "metadata": {
        "id": "rtTo_kS-5Rvz"
      },
      "execution_count": 263,
      "outputs": []
    },
    {
      "cell_type": "code",
      "source": [
        "train_vocab, reverse_vocab = generate_vocab_map(train_df)"
      ],
      "metadata": {
        "id": "VeyJTde-9GN_"
      },
      "execution_count": 264,
      "outputs": []
    },
    {
      "cell_type": "code",
      "source": [
        "count = 0\n",
        "for key, value in train_vocab.items():\n",
        "  print(f\"{key}: {value}\")\n",
        "  count += 1\n",
        "  if count == 10:\n",
        "    break"
      ],
      "metadata": {
        "colab": {
          "base_uri": "https://localhost:8080/"
        },
        "id": "do0ZCyNd9Iw8",
        "outputId": "7c8e6a04-9d77-458d-c5ed-d7cc5b29dcff"
      },
      "execution_count": 265,
      "outputs": [
        {
          "output_type": "stream",
          "name": "stdout",
          "text": [
            "<PAD>: 0\n",
            "UNK: 1\n",
            "just: 2\n",
            "watching: 3\n",
            "complete: 4\n",
            "first: 5\n",
            "season: 6\n",
            "whats: 7\n",
            "the: 8\n",
            "matter: 9\n"
          ]
        }
      ]
    },
    {
      "cell_type": "markdown",
      "source": [
        "## Create Dataset for pytorch\n",
        "- PyTorch’s Dataset class allows you to define your own custom preprocessing steps, such as tokenization, padding, normalization, and augmentation, directly within the dataset class.\n",
        "- This ensures that your data is processed consistently and efficiently at the time of loading, making it easy to experiment with different preprocessing strategies.\n",
        "- The Dataset class works seamlessly with PyTorch’s DataLoader, which handles batching, shuffling, and parallel data loading using multiple workers.\n"
      ],
      "metadata": {
        "id": "4JG-13WN9lu9"
      }
    },
    {
      "cell_type": "code",
      "source": [
        "import torch\n",
        "from torch.utils.data import Dataset\n",
        "\n",
        "class SentimentDataset(Dataset):\n",
        "    def __init__(self, vocab, df, max_length=30):\n",
        "        self.vocab = vocab\n",
        "        self.df = df\n",
        "        self.max_length = max_length\n",
        "\n",
        "    def __len__(self):\n",
        "        return len(self.df)\n",
        "\n",
        "    def __getitem__(self, index: int):\n",
        "        row = self.df.iloc[index]\n",
        "        tokenized = row[\"tokenized\"]\n",
        "\n",
        "        # Tokenize and pad/truncate to max_length\n",
        "        tokenized_word_tensor = torch.tensor(\n",
        "            [self.vocab.get(word, self.vocab.get('<unk>', 0)) for word in tokenized[:self.max_length]],\n",
        "            dtype=torch.long\n",
        "        )\n",
        "\n",
        "        # Pad sequence to max_length if necessary\n",
        "        if len(tokenized_word_tensor) < self.max_length:\n",
        "            pad_length = self.max_length - len(tokenized_word_tensor)\n",
        "            tokenized_word_tensor = torch.cat(\n",
        "                [tokenized_word_tensor, torch.zeros(pad_length, dtype=torch.long)]\n",
        "            )\n",
        "\n",
        "        # Get the label as a tensor\n",
        "        label = torch.tensor(row[\"sentiment_label\"], dtype=torch.long)\n",
        "\n",
        "        return tokenized_word_tensor, label"
      ],
      "metadata": {
        "id": "oHUOyvwv9xMQ"
      },
      "execution_count": 327,
      "outputs": []
    },
    {
      "cell_type": "code",
      "source": [
        "train_dataset = SentimentDataset(train_vocab, train_df)\n",
        "val_dataset = SentimentDataset(train_vocab, val_df)"
      ],
      "metadata": {
        "id": "GbXL42nVBpu-"
      },
      "execution_count": 328,
      "outputs": []
    },
    {
      "cell_type": "markdown",
      "source": [
        "## Sampler\n",
        "\n",
        "1.\tImproves Model Generalization:\n",
        "\t- By shuffling the data each epoch, RandomSampler helps prevent the model from learning the order of the data, which can cause overfitting.\n",
        "\t-\tThis randomness forces the model to learn generalized patterns rather than memorizing the sequence of data points.\n",
        "2.\tEnsures Data Variability in Batches:\n",
        "\t-\tRandom sampling ensures that each batch during training is different, which exposes the model to a diverse set of examples more frequently.\n",
        "\t-\tDiverse batches help the model learn from all parts of the dataset more evenly, improving the training dynamics.\n",
        "3.\tAvoids Bias in Batch Formation:\n",
        "\t-\tWithout random sampling, data points might appear in a biased order, potentially causing the model to train unevenly.\n",
        "\t-\tBy shuffling the order, RandomSampler prevents any potential bias related to the order in which data was originally sorted or labeled.\n",
        "4.\tSampling with Replacement:\n",
        "\t-\tYou can set replacement=True to allow resampling of data points within the same epoch, which is useful for tasks like bootstrapping.\n",
        "\t-\tThis setting is particularly valuable when dealing with imbalanced datasets or when implementing specific sampling strategies."
      ],
      "metadata": {
        "id": "ZoocIa6PKGNJ"
      }
    },
    {
      "cell_type": "code",
      "source": [
        "train_sampler = RandomSampler(train_dataset)\n",
        "val_sampler = RandomSampler(val_dataset)"
      ],
      "metadata": {
        "id": "gjZaZ24mKI_9"
      },
      "execution_count": 329,
      "outputs": []
    },
    {
      "cell_type": "markdown",
      "source": [
        "## Padding\n",
        "\n",
        "In natural language processing (NLP) and deep learning, sequences such as sentences can vary in length. However, most deep learning models, especially those using batch processing, require input sequences of a fixed size. To accommodate this, padding is applied to sequences to make them of uniform length. Padding involves adding extra tokens (usually zeros) to sequences that are shorter than the desired length. This step is essential when converting sequences into tensors of consistent size for batch processing in frameworks like PyTorch.\n",
        "\n",
        "### Types of padding\n",
        "1. Front Padding:\n",
        "  \n",
        "  In front padding, also known as left padding, the padding tokens are added at the beginning of the sequence. For instance, if you want a sequence to be of length 10 and the original sequence is only 7 tokens long, you would add 3 padding tokens at the start.\n",
        "  \n",
        "  Example: [PAD, PAD, PAD, word1, word2, ..., word7]\n",
        "  \n",
        "  Use Case: Front padding is commonly used in some NLP tasks where aligning the end of sequences might be beneficial for models like RNNs, which process data sequentially from left to right.\n",
        "2. Back Padding:\n",
        "  \n",
        "  In back padding, also known as right padding, the padding tokens are added at the end of the sequence. This is the most common approach since it keeps the original sequence structure intact and places the padding at the end.\n",
        "  \n",
        "  Example: [word1, word2, ..., word7, PAD, PAD, PAD]\n",
        "  \n",
        "  Use Case: Back padding is widely used in NLP tasks and is the default for many models because it maintains the natural order of the sequence. It’s particularly useful in models like Transformers, where positional encodings are used.\n",
        "\n",
        "### Problems with Padding\n",
        "\n",
        "1. Impact on Mean and Other Calculations:\n",
        "  \n",
        "  When sequences are padded excessively, the padding tokens (often zeros) can distort calculations like the mean or sum across the sequence dimension. For instance, if you calculate the mean of a sequence that includes many padding tokens, the mean value may be artificially lowered due to the zeros, which do not represent meaningful data.\n",
        "  \n",
        "  Example: Consider a sequence [5, 6, 7, 0, 0, 0]. The mean of the original sequence without padding would be (5 + 6 + 7)/3 = 6, but with padding, the mean becomes (5 + 6 + 7 + 0 + 0 + 0)/6 = 3, which misrepresents the true average value.\n",
        "\n",
        "2. Increased Computational Load:\n",
        "\n",
        "  Padding increases the size of the input tensor, which can lead to unnecessary computations, especially if a large portion of the input tensor is padding. This can slow down training and increase memory usage without contributing to learning.\n",
        "  \n",
        "  Example: A model processing a sequence of length 50, where 30 tokens are padding, spends computational resources processing the padding, which does not provide useful information.\n",
        "\n",
        "3. Gradient Flow Issues:\n",
        "  \n",
        "  Padding can also affect gradient flow, particularly in models like RNNs, where padded tokens might cause gradients to vanish or explode, especially if the model mistakenly learns to focus on the padding."
      ],
      "metadata": {
        "id": "70qJKbNpZWbv"
      }
    },
    {
      "cell_type": "code",
      "source": [
        "def pad_sequences_end(batch, max_length=50):\n",
        "    padded_batch = torch.zeros((len(batch), max_length), dtype=torch.long)\n",
        "    for i, seq in enumerate(batch):\n",
        "        seq_len = min(len(seq), max_length)\n",
        "        padded_batch[i, :seq_len] = seq[:seq_len]\n",
        "    return padded_batch"
      ],
      "metadata": {
        "id": "uR4Z0gtWMMbC"
      },
      "execution_count": 309,
      "outputs": []
    },
    {
      "cell_type": "markdown",
      "source": [
        "## Collate Functions:\n",
        "*\tThe collate_fn parameter allows for custom logic when merging samples into a batch, such as padding sequences to the same length for NLP tasks.\n",
        "*\tThis customization is vital for working with variable-length data and ensures consistent tensor shapes across batches."
      ],
      "metadata": {
        "id": "FH221s6ZZbgb"
      }
    },
    {
      "cell_type": "code",
      "source": [
        "def collate_fn(batch, max_length=30):\n",
        "    texts, labels = zip(*batch)\n",
        "    padded_texts = pad_sequences_end(texts, max_length)\n",
        "    labels = torch.stack(labels, dim=0)\n",
        "    return padded_texts, labels\n"
      ],
      "metadata": {
        "id": "5WMK88fYLNBN"
      },
      "execution_count": 339,
      "outputs": []
    },
    {
      "cell_type": "markdown",
      "source": [
        "## Dataloader\n",
        "\n",
        "DataLoader is a class in PyTorch’s torch.utils.data module that helps to load data from a dataset in an efficient manner. It manages batching, shuffling, parallel data loading, and more, which are essential for training deep learning models.\n",
        "-\tBatching: Splits the dataset into small batches of data, making it easier for the model to process and update weights iteratively.\n",
        "-\tShuffling: Allows shuffling of the data to prevent models from learning the order of samples, enhancing model generalization.\n",
        "-\tParallel Data Loading: Supports loading data in parallel using multiple CPU workers, which speeds up the data loading process.\n",
        "-\tCustom Sampling: Works seamlessly with custom samplers like RandomSampler to control how data points are selected."
      ],
      "metadata": {
        "id": "p_CND6EDLC8v"
      }
    },
    {
      "cell_type": "code",
      "source": [
        "train_iterator = DataLoader(train_dataset, batch_size=128, sampler=train_sampler, collate_fn=collate_fn)\n",
        "val_iterator = DataLoader(val_dataset, batch_size=128, sampler=val_sampler, collate_fn=collate_fn)"
      ],
      "metadata": {
        "id": "QwFAwo8tLUXO"
      },
      "execution_count": 340,
      "outputs": []
    },
    {
      "cell_type": "code",
      "source": [
        "for x, y in train_iterator:\n",
        "    print(f'x: {x.shape}')\n",
        "    print(f'y: {y.shape}')\n",
        "    # print(x)\n",
        "    # print(y)\n",
        "    break"
      ],
      "metadata": {
        "colab": {
          "base_uri": "https://localhost:8080/"
        },
        "id": "nrkOe7BgLvIc",
        "outputId": "fe55dfb5-b8a9-43f2-fc83-ae5ba21d7e67"
      },
      "execution_count": 341,
      "outputs": [
        {
          "output_type": "stream",
          "name": "stdout",
          "text": [
            "x: torch.Size([128, 30])\n",
            "y: torch.Size([128])\n"
          ]
        }
      ]
    },
    {
      "cell_type": "markdown",
      "source": [
        "## Model Architecture:\n",
        "\n",
        "- Embedding Layer (nn.Embedding): Converts word indices to dense vectors.\n",
        " - Fully Connected Layer 1 (nn.Linear): Maps flattened embeddings to hidden features, followed by ReLU activation.\n",
        " - Fully Connected Layer 2 (nn.Linear): Outputs logits for each of the 13 classes.\n",
        "- Optimizer:\n",
        "\n",
        " - Adam Optimizer (optim.Adam): Used with a learning rate of 0.001 for adaptive gradient updates.\n",
        "- Loss Function:\n",
        "\n",
        " - CrossEntropyLoss (nn.CrossEntropyLoss): Suitable for multi-class classification tasks.\n",
        "- Hyperparameters:\n",
        "\n",
        " - Embedding Size: 128\n",
        " - Hidden Size: 128\n",
        " - Output Size: 13 classes\n",
        " - Max Sequence Length: 50\n",
        " - Batch Size: 128 (used in the DataLoader)\n",
        " - Learning Rate: 0.001\n",
        " - Patience for Early Stopping: 5 epochs"
      ],
      "metadata": {
        "id": "n95gztbVbpRc"
      }
    },
    {
      "cell_type": "markdown",
      "source": [
        "### Masking\n",
        "\n",
        "Masking is a technique used in deep learning to handle variable-length sequences, particularly when padding is involved. When sequences are padded to ensure uniform length across a batch, the padding tokens (typically zeros) do not carry meaningful information. However, if these padded tokens are processed by the model, they can distort the learning process, affecting the model's accuracy and efficiency. Masking is used to instruct the model to ignore these padded tokens during certain computations, such as in attention mechanisms, loss calculations, and predictions.\n",
        "\n",
        "### Why Masking is Important\n",
        "1. Avoiding Padding Influence: Without masking, the model might learn to treat padding tokens as meaningful, which can lead to incorrect learning and biased predictions.\n",
        "\n",
        "2. Efficient Computation: By masking out padding tokens, the model can focus its computations on meaningful data, thereby improving efficiency and reducing unnecessary calculations.\n",
        "\n",
        "3. Correct Loss Calculation: In sequence-to-sequence models (e.g., in translation tasks), padding should not contribute to the loss. Masking ensures that the loss is computed only over the actual data, not the padding.\n",
        "\n",
        "4. Improved Gradient Flow: By masking, the gradients during backpropagation are computed only for the actual tokens, which helps in preventing issues like vanishing or exploding gradients, especially in recurrent models."
      ],
      "metadata": {
        "id": "0OFXneS-jyVo"
      }
    },
    {
      "cell_type": "code",
      "source": [
        "# Model definition\n",
        "\n",
        "import torch\n",
        "import torch.nn as nn\n",
        "import torch.optim as optim\n",
        "from torch.utils.data import DataLoader, Dataset\n",
        "\n",
        "class FeedforwardModel(nn.Module):\n",
        "    def __init__(self, vocab_size, embedding_dim, hidden_size, output_size):\n",
        "        super().__init__()\n",
        "        self.embedding = nn.Embedding(vocab_size, embedding_dim)\n",
        "        self.fc1 = nn.Linear(embedding_dim, hidden_size)\n",
        "        self.relu = nn.ReLU()\n",
        "        self.fc2 = nn.Linear(hidden_size, output_size)\n",
        "\n",
        "    def forward(self, x):\n",
        "        x = self.embedding(x)\n",
        "        x = torch.mean(x, dim=1)\n",
        "        x = x.float()\n",
        "        x = self.fc1(x)\n",
        "        x = self.relu(x)\n",
        "        x = self.fc2(x)\n",
        "        return x"
      ],
      "metadata": {
        "id": "OvV1vEhoNxKh"
      },
      "execution_count": 449,
      "outputs": []
    },
    {
      "cell_type": "markdown",
      "source": [
        "## Early Stopping\n",
        "\n",
        "Early Stopping is a popular regularization technique used in machine learning to prevent overfitting during the training of models, particularly neural networks. It works by monitoring the performance of the model on a validation set and halting the training process when the model’s performance starts to degrade, indicating that further training would lead to overfitting rather than improvements."
      ],
      "metadata": {
        "id": "5gzJsRJXNjVS"
      }
    },
    {
      "cell_type": "code",
      "source": [
        "class EarlyStopping:\n",
        "    def __init__(self, patience=5, min_delta=0.001):\n",
        "        self.patience = patience\n",
        "        self.min_delta = min_delta\n",
        "        self.best_score = np.inf\n",
        "        self.early_stop = False\n",
        "        self.counter = 0\n",
        "\n",
        "    def __call__(self, val_loss):\n",
        "        score = -val_loss\n",
        "        if score < self.best_score + self.min_delta:\n",
        "            self.best_score = score\n",
        "            self.counter = 0\n",
        "        else:\n",
        "            self.counter += 1\n",
        "            if self.counter >= self.patience:\n",
        "                self.early_stop = True"
      ],
      "metadata": {
        "id": "8aFVm_faNlZu"
      },
      "execution_count": 433,
      "outputs": []
    },
    {
      "cell_type": "markdown",
      "source": [
        "## Softmax and Cross-Entropy with One-Hot Encoding\n",
        "\n",
        "### Softmax\n",
        "Softmax is a mathematical function used in machine learning, particularly in classification tasks. It converts raw scores (logits) from a model into probabilities by normalizing them. The output is a probability distribution where each value represents the likelihood of each class, and all probabilities sum up to 1.\n",
        "\n",
        "\n",
        "Formula:\n",
        "For a vector $ z = [z_1, z_2, \\ldots, z_n] $, the softmax function is given by:\n",
        "$$\n",
        " \\text{Softmax}(z_i) = \\frac{e^{z_i}}{\\sum_{j} e^{z_j}}\n",
        "$$\n",
        "\n",
        "where  e  is the base of the natural logarithm, $ z_i $ is the raw score for class  i , and the denominator sums over all classes to normalize the scores.\n",
        "\n",
        "Softmax is commonly used in the final layer of a classification model to output probabilities for each class.\n",
        "\n",
        "### Cross-Entropy\n",
        "\n",
        "Cross-entropy is a loss function used to measure the difference between two probability distributions. In classification tasks, it measures how well the predicted probability distribution (obtained from softmax) matches the true distribution (actual class labels).\n",
        "\n",
        "Formula:\n",
        "For a single data point, cross-entropy loss  L  is given by:\n",
        "$$\n",
        " L = -\\sum_{i} y_i \\log(p_i)\n",
        "$$\n",
        "where:\n",
        "\n",
        "- $y_i$ is the true probability (usually 1 for the correct class and 0 for others),\n",
        "- $p_i$ is the predicted probability for class  i .\n",
        "\n",
        "Usage: Cross-entropy is used to train classification models by minimizing the difference between the predicted probabilities and the actual labels. It is particularly effective in guiding the model to produce accurate probability distributions.\n",
        "\n",
        "### How softmax and cross-entropy works\n",
        "\n",
        "One-Hot Encoding: Suppose the true sentiment labels are as follows:\n",
        "\n",
        "- Positive: [1, 0, 0]\n",
        "- Neutral: [0, 1, 0]\n",
        "- Negative: [0, 0, 1]\n",
        "\n",
        "Model Output (Softmax Probabilities):\n",
        "- For an input, the model predicts probabilities: [0.7, 0.2, 0.1], indicating a high confidence in the “Positive” class.\n",
        "Cross-Entropy Loss Calculation:\n",
        "- If the true label is “Positive” ([1, 0, 0]), the cross-entropy loss is calculated using:\n",
        "\n",
        "$$\n",
        "\\text{Loss} = -\\sum (\\text{True Label} \\times \\log(\\text{Predicted Probabilities}))\n",
        "$$\n",
        "\n",
        "- Substituting the values:\n",
        "\n",
        "$$\n",
        "\\text{Loss} = -(1 \\times \\log(0.7) + 0 \\times \\log(0.2) + 0 \\times \\log(0.1)) = -\\log(0.7)\n",
        "$$\n",
        "\n",
        "- This loss indicates how well the predicted probabilities match the true one-hot encoded distribution, guiding the model to improve.\n"
      ],
      "metadata": {
        "id": "8O4LZiz53tLR"
      }
    },
    {
      "cell_type": "markdown",
      "source": [
        "### Some more precautions with softmax\n",
        "While working with softmax in pytorch, the dim parameter dictates across which dimension the softmax operations is done. Basically, the softmax operation will transform your input into a probability distribution i.e. the sum of all elements will be 1. The below example shows the difference between using dim=0 or dim=1 for a 2D input tensor (supposing the first dimension for the batch size, and the second for the number of classes)."
      ],
      "metadata": {
        "id": "QQiJZRDd418L"
      }
    },
    {
      "cell_type": "code",
      "source": [
        "# input tensor of dimensions B x C, B = number of batches, C = number of classes.\n",
        "inputs = torch.rand(size=(4, 4), dtype=torch.float32)\n",
        "soft_dim0 = torch.softmax(inputs, dim=0)\n",
        "soft_dim1 = torch.softmax(inputs, dim=1)\n",
        "print('**** INPUTS ****')\n",
        "print(inputs)\n",
        "print('**** SOFTMAX DIM=0 ****')\n",
        "print(soft_dim0)\n",
        "print('**** SOFTMAX DIM=1 ****')\n",
        "print(soft_dim1)"
      ],
      "metadata": {
        "colab": {
          "base_uri": "https://localhost:8080/"
        },
        "id": "RBIrLLj34ocs",
        "outputId": "224ea320-8d7d-4b8e-9a1b-e81a4e4cd7f1"
      },
      "execution_count": 407,
      "outputs": [
        {
          "output_type": "stream",
          "name": "stdout",
          "text": [
            "**** INPUTS ****\n",
            "tensor([[2.6498e-01, 3.8158e-01, 7.0097e-03, 1.2189e-02],\n",
            "        [5.3601e-01, 3.9409e-02, 5.9137e-01, 7.1151e-01],\n",
            "        [2.7660e-01, 5.9438e-01, 4.6486e-01, 9.5549e-01],\n",
            "        [4.2655e-01, 6.7383e-01, 2.3276e-04, 3.8788e-01]])\n",
            "**** SOFTMAX DIM=0 ****\n",
            "tensor([[0.2223, 0.2333, 0.1863, 0.1421],\n",
            "        [0.2915, 0.1657, 0.3342, 0.2860],\n",
            "        [0.2249, 0.2886, 0.2945, 0.3650],\n",
            "        [0.2613, 0.3125, 0.1850, 0.2069]])\n",
            "**** SOFTMAX DIM=1 ****\n",
            "tensor([[0.2723, 0.3059, 0.2104, 0.2114],\n",
            "        [0.2592, 0.1578, 0.2740, 0.3090],\n",
            "        [0.1801, 0.2475, 0.2174, 0.3551],\n",
            "        [0.2567, 0.3287, 0.1676, 0.2470]])\n"
          ]
        }
      ]
    },
    {
      "cell_type": "markdown",
      "source": [
        "As you can see, for the softmax with dim=0, the sum of each column =1, while for dim=1, it is the sum of the rows that equals 1. Usually, you do not want to perform a softmax operation across the batch dimension."
      ],
      "metadata": {
        "id": "oPLeTLVA5aQ1"
      }
    },
    {
      "cell_type": "markdown",
      "source": [
        "## Optimizers\n",
        "Optimizers are algorithms or methods used to adjust the weights of neural networks to minimize the loss function during training.\n",
        "They update the model parameters based on the computed gradients from backpropagation, guiding the model towards better performance. Different optimizers, such as SGD (Stochastic Gradient Descent), RMSprop, Adam, etc., have unique ways of adjusting the learning rates and handling gradients, which can impact the speed and stability of training.\n",
        "\n",
        "The Adam optimizer is chosen because it is efficient, works well with large datasets and models, and often provides faster and more stable convergence than traditional optimizers like SGD."
      ],
      "metadata": {
        "id": "goRvHCHClwzE"
      }
    },
    {
      "cell_type": "code",
      "source": [
        "def setup_training(model, lr=0.001):\n",
        "    criterion = nn.CrossEntropyLoss()\n",
        "    optimizer = optim.Adam(model.parameters(), lr=lr)\n",
        "    return criterion, optimizer\n"
      ],
      "metadata": {
        "id": "HX5dxqFsfN0_"
      },
      "execution_count": 408,
      "outputs": []
    },
    {
      "cell_type": "markdown",
      "source": [
        "## Training Loop\n",
        "\n",
        "The training loop updates the model's parameters by processing batches of data, calculating loss, and backpropagating gradients to minimize the loss."
      ],
      "metadata": {
        "id": "YCujBJvyhEsf"
      }
    },
    {
      "cell_type": "code",
      "source": [
        "def train_one_epoch(model, train_loader, criterion, optimizer):\n",
        "    model.train()\n",
        "    train_loss = 0\n",
        "    for x_batch, y_batch in train_loader:\n",
        "        optimizer.zero_grad()\n",
        "        outputs = model(x_batch)\n",
        "        loss = criterion(outputs, y_batch.long())\n",
        "        loss.backward()\n",
        "        optimizer.step()\n",
        "        train_loss += loss.item() * x_batch.size(0)\n",
        "    train_loss /= len(train_loader.dataset)\n",
        "    return train_loss"
      ],
      "metadata": {
        "id": "GwR5Fi-TfWGC"
      },
      "execution_count": 409,
      "outputs": []
    },
    {
      "cell_type": "markdown",
      "source": [
        "## Validation Loop\n",
        "\n",
        "The validation loop evaluates the model's performance on unseen data by calculating the loss without updating the model's parameters, helping to monitor generalization and prevent overfitting."
      ],
      "metadata": {
        "id": "E3Kxk-oQhHYE"
      }
    },
    {
      "cell_type": "code",
      "source": [
        "def validate_and_collect_predictions(model, val_loader, criterion):\n",
        "    model.eval()\n",
        "    val_loss = 0\n",
        "    all_preds = []\n",
        "    all_labels = []\n",
        "\n",
        "    with torch.no_grad():\n",
        "        for x_batch, y_batch in val_loader:\n",
        "            outputs = model(x_batch)\n",
        "            loss = criterion(outputs, y_batch.long())\n",
        "            val_loss += loss.item() * x_batch.size(0)\n",
        "            _, preds = torch.max(outputs, 1)\n",
        "            all_preds.extend(preds.cpu().numpy())\n",
        "            all_labels.extend(y_batch.cpu().numpy())\n",
        "\n",
        "    val_loss /= len(val_loader.dataset)\n",
        "    return val_loss, all_preds, all_labels"
      ],
      "metadata": {
        "id": "Y2Hwo5FvfXhL"
      },
      "execution_count": 410,
      "outputs": []
    },
    {
      "cell_type": "markdown",
      "source": [
        "## Importance of using loss curves to monitor training of model\n",
        "\n",
        "Monitoring the train and validation loss curves during model training is crucial for understanding the learning dynamics of a machine learning model. These curves provide valuable insights into how well the model is learning from the data and whether it is generalizing effectively to unseen data. Analyzing these curves helps identify potential issues such as overfitting, underfitting, or improper training dynamics, allowing for timely adjustments to the model, training procedure, or data preprocessing.\n",
        "\n",
        "Key Reasons Why Monitoring Loss Curves is Important\n",
        "\n",
        "1.\tDetecting Overfitting and Underfitting\n",
        "\t-\tOverfitting: Overfitting occurs when the model learns the training data too well, including noise and specific patterns that do not generalize to new data. This is typically seen when the training loss continues to decrease while the validation loss starts increasing, indicating that the model is becoming too complex and is memorizing the training data rather than learning generalizable patterns.\n",
        "\t-\tUnderfitting: Underfitting occurs when the model is too simple to capture the underlying patterns in the data, resulting in both high training and validation losses. The loss curves will show high values without significant improvement, indicating that the model or its training strategy needs to be revised.\n",
        "2.\tAssessing Model Performance and Learning Progress\n",
        "\t-\tMonitoring loss curves helps assess whether the model is learning effectively. A steadily decreasing training and validation loss suggests that the model is improving and learning useful patterns from the data.\n",
        "\t-\tThe shape of the loss curves also provides insights into the learning rate’s suitability; for example, a very steep drop in loss followed by a plateau could indicate an initially high learning rate that quickly stabilizes.\n",
        "3.\tIdentifying Training Instabilities\n",
        "\t-\tInstabilities in the training process, such as sudden spikes or oscillations in the loss curves, can indicate problems like inappropriate learning rates, improper batch sizes, or noisy data. These fluctuations signal that adjustments are necessary to stabilize the learning process.\n",
        "\t-\tA sharp drop followed by a rapid increase in validation loss can indicate the learning rate is too high, causing the model to overshoot the optimal weights.\n",
        "4.\tOptimizing Hyperparameters\n",
        "\t-\tThe loss curves provide feedback that is crucial when tuning hyperparameters such as learning rate, batch size, model architecture, and regularization terms. For example, if validation loss decreases but then starts to diverge from the training loss, adding regularization or adjusting learning rates may help.\n",
        "\t-\tProper monitoring helps fine-tune these parameters dynamically, leading to faster convergence and better model performance."
      ],
      "metadata": {
        "id": "7isWJ3IpOsXR"
      }
    },
    {
      "cell_type": "code",
      "source": [
        "import matplotlib.pyplot as plt\n",
        "\n",
        "def plot_losses(train_losses, val_losses):\n",
        "    plt.plot(range(1, len(train_losses) + 1), train_losses, label='Train Loss')\n",
        "    plt.plot(range(1, len(val_losses) + 1), val_losses, label='Val Loss')\n",
        "    plt.xlabel('Epochs')\n",
        "    plt.ylabel('Loss')\n",
        "    plt.title('Training and Validation Loss')\n",
        "    plt.legend()\n",
        "    plt.show()\n"
      ],
      "metadata": {
        "id": "4Yrj4UeQfic0"
      },
      "execution_count": 411,
      "outputs": []
    },
    {
      "cell_type": "markdown",
      "source": [
        "## Confusion Matrix\n",
        "A confusion matrix is a table used to evaluate the performance of a classification model. It provides a summary of prediction results on a classification problem by comparing the actual labels with the model's predictions. The confusion matrix helps to visualize and understand how well the model is performing, particularly in distinguishing between different classes.\n",
        "\n",
        "Structure of a Confusion Matrix:\n",
        "For a binary classification problem, the confusion matrix is a 2x2 table that looks like this:\n",
        "\n",
        "![Screenshot 2024-08-30 at 2.51.13 PM.png](https://plat.ai/wp-content/uploads/Table1-2.png.webp)\n",
        "\n",
        "True Positive (TP): The number of instances where the model correctly predicted the positive class.\n",
        "\n",
        "False Positive (FP): The number of instances where the model incorrectly predicted the positive class when it was actually negative\n",
        "\n",
        "True Negative (TN): The number of instances where the model correctly predicted the negative class.\n",
        "\n",
        "False Negative (FN): The number of instances where the model incorrectly predicted the negative class when it was actually positive.\n"
      ],
      "metadata": {
        "id": "ObXzDydVnz78"
      }
    },
    {
      "cell_type": "code",
      "source": [
        "def plot_confusion_matrix(y_true, y_pred, classes):\n",
        "    cm = confusion_matrix(y_true, y_pred, labels=range(len(classes)))\n",
        "    disp = ConfusionMatrixDisplay(confusion_matrix=cm, display_labels=classes)\n",
        "    disp.plot(cmap=plt.cm.Blues)\n",
        "    plt.show()"
      ],
      "metadata": {
        "id": "I6UZhv-PnPYS"
      },
      "execution_count": 440,
      "outputs": []
    },
    {
      "cell_type": "code",
      "source": [
        "from sklearn.metrics import accuracy_score, f1_score, precision_score, recall_score, confusion_matrix\n",
        "\n",
        "def calculate_metrics(all_labels, all_preds):\n",
        "    accuracy = accuracy_score(all_labels, all_preds)\n",
        "    f1 = f1_score(all_labels, all_preds, average='weighted')\n",
        "    precision = precision_score(all_labels, all_preds, average='weighted')\n",
        "    recall = recall_score(all_labels, all_preds, average='weighted')\n",
        "\n",
        "    return accuracy, f1, precision, recall"
      ],
      "metadata": {
        "id": "awM1LqIlU0iG"
      },
      "execution_count": 467,
      "outputs": []
    },
    {
      "cell_type": "markdown",
      "source": [
        "## How to use checkpoints to load models\n",
        "\n",
        "Implementing a mechanism to resume training from saved checkpoints is a highly beneficial practice in machine learning and deep learning, particularly when working with large and complex models. This approach involves saving the model’s state, optimizer state, and other necessary parameters at various stages of training, allowing you to restart the training process from a saved checkpoint rather than starting from scratch.\n",
        "\n",
        "- Due to limited availability of GPUs on Google Colab, the code runtime often terminates. Saving a model checkpoint and using it to resume training helps a lot."
      ],
      "metadata": {
        "id": "M9gN8y9pNvAU"
      }
    },
    {
      "cell_type": "code",
      "source": [
        "def load_checkpoint(model, optimizer, checkpoint_path):\n",
        "    try:\n",
        "        checkpoint = torch.load(checkpoint_path, map_location=torch.device('cpu'))\n",
        "        model.load_state_dict(checkpoint['model_state_dict'])\n",
        "        optimizer.load_state_dict(checkpoint['optimizer_state_dict'])\n",
        "        start_epoch = checkpoint['epoch']\n",
        "        best_val_loss = checkpoint['best_val_loss']\n",
        "        print(f\"Resuming training from epoch {start_epoch} with best validation loss {best_val_loss:.4f}...\")\n",
        "        return start_epoch, best_val_loss\n",
        "    except FileNotFoundError:\n",
        "        print(f\"No checkpoint found at {checkpoint_path}. Starting training from scratch.\")\n",
        "        return 0, float('inf')\n",
        "    except Exception as e:\n",
        "        print(f\"Error loading checkpoint: {e}. Starting training from scratch.\")\n",
        "        return 0, float('inf')\n"
      ],
      "metadata": {
        "id": "EOEcpp6DfVtu"
      },
      "execution_count": 468,
      "outputs": []
    },
    {
      "cell_type": "code",
      "source": [
        "def save_checkpoint(model, optimizer, epoch, best_val_loss, checkpoint_path):\n",
        "    torch.save({\n",
        "        'epoch': epoch + 1,\n",
        "        'model_state_dict': model.state_dict(),\n",
        "        'optimizer_state_dict': optimizer.state_dict(),\n",
        "        'best_val_loss': best_val_loss,\n",
        "    }, checkpoint_path)\n",
        "    print(f\"New best model saved with validation loss {best_val_loss:.4f}\")\n"
      ],
      "metadata": {
        "id": "IUbLlFoafZIm"
      },
      "execution_count": 463,
      "outputs": []
    },
    {
      "cell_type": "markdown",
      "source": [
        "## Training model function that uses the functions defined above"
      ],
      "metadata": {
        "id": "XT1X9VtehX77"
      }
    },
    {
      "cell_type": "code",
      "source": [
        "\n",
        "def train_model(model, train_loader, val_loader, epochs=40, lr=0.0001, checkpoint_path='best_model_checkpoint.pth', resume=False, patience=5):\n",
        "    criterion, optimizer = setup_training(model, lr)\n",
        "    start_epoch, best_val_loss = (0, float('inf'))\n",
        "\n",
        "    if resume and checkpoint_path:\n",
        "        start_epoch, best_val_loss = load_checkpoint(model, optimizer, checkpoint_path)\n",
        "\n",
        "    early_stopping = EarlyStopping(patience=patience)\n",
        "\n",
        "    train_losses = []\n",
        "    val_losses = []\n",
        "\n",
        "    for epoch in range(start_epoch, epochs):\n",
        "        train_loss = train_one_epoch(model, train_loader, criterion, optimizer)\n",
        "        val_loss, all_preds, all_labels = validate_and_collect_predictions(model, val_loader, criterion)\n",
        "\n",
        "        train_losses.append(train_loss)\n",
        "        val_losses.append(val_loss)\n",
        "\n",
        "        # Calculate and print metrics\n",
        "        accuracy, f1, precision, recall = calculate_metrics(all_labels, all_preds)\n",
        "        print(f'Epoch {epoch+1}/{epochs}, Train Loss: {train_loss:.4f}, Val Loss: {val_loss:.4f}')\n",
        "        print(f'Accuracy: {accuracy:.4f}, F1 Score: {f1:.4f}, Precision: {precision:.4f}, Recall: {recall:.4f}')\n",
        "\n",
        "        if val_loss < best_val_loss:\n",
        "            best_val_loss = val_loss\n",
        "            save_checkpoint(model, optimizer, epoch, best_val_loss, checkpoint_path)\n",
        "\n",
        "        early_stopping(val_loss)\n",
        "        # if early_stopping.early_stop:\n",
        "        #     print(f\"Early stopping triggered at epoch {epoch+1}\")\n",
        "        #     break\n",
        "\n",
        "    plot_losses(train_losses, val_losses)\n",
        "\n",
        "    # Plot the confusion matrix\n",
        "    classes = [f'Class {i}' for i in range(model.fc2.out_features)]\n",
        "    plot_confusion_matrix(all_labels, all_preds, classes)"
      ],
      "metadata": {
        "id": "3VKGAd4iflQJ"
      },
      "execution_count": 464,
      "outputs": []
    },
    {
      "cell_type": "code",
      "source": [
        "vocab_size = len(train_vocab)\n",
        "input_size = 30\n",
        "hidden_size = 128\n",
        "output_size = 13\n",
        "\n",
        "model = FeedforwardModel(vocab_size, input_size, hidden_size, output_size)"
      ],
      "metadata": {
        "id": "U8V8CH1SGmPU"
      },
      "execution_count": 469,
      "outputs": []
    },
    {
      "cell_type": "code",
      "execution_count": 470,
      "metadata": {
        "colab": {
          "base_uri": "https://localhost:8080/",
          "height": 1000
        },
        "id": "pAHG77_hC5mt",
        "outputId": "eb27efc5-6ca2-4fdc-ffa2-b19b03538f0e"
      },
      "outputs": [
        {
          "output_type": "stream",
          "name": "stderr",
          "text": [
            "/usr/local/lib/python3.10/dist-packages/sklearn/metrics/_classification.py:1471: UndefinedMetricWarning: Precision is ill-defined and being set to 0.0 in labels with no predicted samples. Use `zero_division` parameter to control this behavior.\n",
            "  _warn_prf(average, modifier, msg_start, len(result))\n"
          ]
        },
        {
          "output_type": "stream",
          "name": "stdout",
          "text": [
            "Epoch 1/40, Train Loss: 2.3242, Val Loss: 2.1984\n",
            "Accuracy: 0.2356, F1 Score: 0.1310, Precision: 0.1883, Recall: 0.2356\n",
            "New best model saved with validation loss 2.1984\n"
          ]
        },
        {
          "output_type": "stream",
          "name": "stderr",
          "text": [
            "/usr/local/lib/python3.10/dist-packages/sklearn/metrics/_classification.py:1471: UndefinedMetricWarning: Precision is ill-defined and being set to 0.0 in labels with no predicted samples. Use `zero_division` parameter to control this behavior.\n",
            "  _warn_prf(average, modifier, msg_start, len(result))\n"
          ]
        },
        {
          "output_type": "stream",
          "name": "stdout",
          "text": [
            "Epoch 2/40, Train Loss: 2.1751, Val Loss: 2.1628\n",
            "Accuracy: 0.2409, F1 Score: 0.1362, Precision: 0.1057, Recall: 0.2409\n",
            "New best model saved with validation loss 2.1628\n"
          ]
        },
        {
          "output_type": "stream",
          "name": "stderr",
          "text": [
            "/usr/local/lib/python3.10/dist-packages/sklearn/metrics/_classification.py:1471: UndefinedMetricWarning: Precision is ill-defined and being set to 0.0 in labels with no predicted samples. Use `zero_division` parameter to control this behavior.\n",
            "  _warn_prf(average, modifier, msg_start, len(result))\n"
          ]
        },
        {
          "output_type": "stream",
          "name": "stdout",
          "text": [
            "Epoch 3/40, Train Loss: 2.1559, Val Loss: 2.1515\n",
            "Accuracy: 0.2496, F1 Score: 0.1462, Precision: 0.1074, Recall: 0.2496\n",
            "New best model saved with validation loss 2.1515\n"
          ]
        },
        {
          "output_type": "stream",
          "name": "stderr",
          "text": [
            "/usr/local/lib/python3.10/dist-packages/sklearn/metrics/_classification.py:1471: UndefinedMetricWarning: Precision is ill-defined and being set to 0.0 in labels with no predicted samples. Use `zero_division` parameter to control this behavior.\n",
            "  _warn_prf(average, modifier, msg_start, len(result))\n"
          ]
        },
        {
          "output_type": "stream",
          "name": "stdout",
          "text": [
            "Epoch 4/40, Train Loss: 2.1470, Val Loss: 2.1454\n",
            "Accuracy: 0.2540, F1 Score: 0.1512, Precision: 0.1082, Recall: 0.2540\n",
            "New best model saved with validation loss 2.1454\n"
          ]
        },
        {
          "output_type": "stream",
          "name": "stderr",
          "text": [
            "/usr/local/lib/python3.10/dist-packages/sklearn/metrics/_classification.py:1471: UndefinedMetricWarning: Precision is ill-defined and being set to 0.0 in labels with no predicted samples. Use `zero_division` parameter to control this behavior.\n",
            "  _warn_prf(average, modifier, msg_start, len(result))\n"
          ]
        },
        {
          "output_type": "stream",
          "name": "stdout",
          "text": [
            "Epoch 5/40, Train Loss: 2.1413, Val Loss: 2.1409\n",
            "Accuracy: 0.2520, F1 Score: 0.1480, Precision: 0.1086, Recall: 0.2520\n",
            "New best model saved with validation loss 2.1409\n"
          ]
        },
        {
          "output_type": "stream",
          "name": "stderr",
          "text": [
            "/usr/local/lib/python3.10/dist-packages/sklearn/metrics/_classification.py:1471: UndefinedMetricWarning: Precision is ill-defined and being set to 0.0 in labels with no predicted samples. Use `zero_division` parameter to control this behavior.\n",
            "  _warn_prf(average, modifier, msg_start, len(result))\n"
          ]
        },
        {
          "output_type": "stream",
          "name": "stdout",
          "text": [
            "Epoch 6/40, Train Loss: 2.1369, Val Loss: 2.1361\n",
            "Accuracy: 0.2540, F1 Score: 0.1510, Precision: 0.1083, Recall: 0.2540\n",
            "New best model saved with validation loss 2.1361\n"
          ]
        },
        {
          "output_type": "stream",
          "name": "stderr",
          "text": [
            "/usr/local/lib/python3.10/dist-packages/sklearn/metrics/_classification.py:1471: UndefinedMetricWarning: Precision is ill-defined and being set to 0.0 in labels with no predicted samples. Use `zero_division` parameter to control this behavior.\n",
            "  _warn_prf(average, modifier, msg_start, len(result))\n"
          ]
        },
        {
          "output_type": "stream",
          "name": "stdout",
          "text": [
            "Epoch 7/40, Train Loss: 2.1328, Val Loss: 2.1325\n",
            "Accuracy: 0.2551, F1 Score: 0.1527, Precision: 0.1089, Recall: 0.2551\n",
            "New best model saved with validation loss 2.1325\n"
          ]
        },
        {
          "output_type": "stream",
          "name": "stderr",
          "text": [
            "/usr/local/lib/python3.10/dist-packages/sklearn/metrics/_classification.py:1471: UndefinedMetricWarning: Precision is ill-defined and being set to 0.0 in labels with no predicted samples. Use `zero_division` parameter to control this behavior.\n",
            "  _warn_prf(average, modifier, msg_start, len(result))\n"
          ]
        },
        {
          "output_type": "stream",
          "name": "stdout",
          "text": [
            "Epoch 8/40, Train Loss: 2.1290, Val Loss: 2.1294\n",
            "Accuracy: 0.2544, F1 Score: 0.1507, Precision: 0.1087, Recall: 0.2544\n",
            "New best model saved with validation loss 2.1294\n"
          ]
        },
        {
          "output_type": "stream",
          "name": "stderr",
          "text": [
            "/usr/local/lib/python3.10/dist-packages/sklearn/metrics/_classification.py:1471: UndefinedMetricWarning: Precision is ill-defined and being set to 0.0 in labels with no predicted samples. Use `zero_division` parameter to control this behavior.\n",
            "  _warn_prf(average, modifier, msg_start, len(result))\n"
          ]
        },
        {
          "output_type": "stream",
          "name": "stdout",
          "text": [
            "Epoch 9/40, Train Loss: 2.1255, Val Loss: 2.1258\n",
            "Accuracy: 0.2547, F1 Score: 0.1518, Precision: 0.1521, Recall: 0.2547\n",
            "New best model saved with validation loss 2.1258\n"
          ]
        },
        {
          "output_type": "stream",
          "name": "stderr",
          "text": [
            "/usr/local/lib/python3.10/dist-packages/sklearn/metrics/_classification.py:1471: UndefinedMetricWarning: Precision is ill-defined and being set to 0.0 in labels with no predicted samples. Use `zero_division` parameter to control this behavior.\n",
            "  _warn_prf(average, modifier, msg_start, len(result))\n"
          ]
        },
        {
          "output_type": "stream",
          "name": "stdout",
          "text": [
            "Epoch 10/40, Train Loss: 2.1219, Val Loss: 2.1227\n",
            "Accuracy: 0.2579, F1 Score: 0.1542, Precision: 0.1101, Recall: 0.2579\n",
            "New best model saved with validation loss 2.1227\n"
          ]
        },
        {
          "output_type": "stream",
          "name": "stderr",
          "text": [
            "/usr/local/lib/python3.10/dist-packages/sklearn/metrics/_classification.py:1471: UndefinedMetricWarning: Precision is ill-defined and being set to 0.0 in labels with no predicted samples. Use `zero_division` parameter to control this behavior.\n",
            "  _warn_prf(average, modifier, msg_start, len(result))\n"
          ]
        },
        {
          "output_type": "stream",
          "name": "stdout",
          "text": [
            "Epoch 11/40, Train Loss: 2.1185, Val Loss: 2.1193\n",
            "Accuracy: 0.2574, F1 Score: 0.1543, Precision: 0.1102, Recall: 0.2574\n",
            "New best model saved with validation loss 2.1193\n"
          ]
        },
        {
          "output_type": "stream",
          "name": "stderr",
          "text": [
            "/usr/local/lib/python3.10/dist-packages/sklearn/metrics/_classification.py:1471: UndefinedMetricWarning: Precision is ill-defined and being set to 0.0 in labels with no predicted samples. Use `zero_division` parameter to control this behavior.\n",
            "  _warn_prf(average, modifier, msg_start, len(result))\n"
          ]
        },
        {
          "output_type": "stream",
          "name": "stdout",
          "text": [
            "Epoch 12/40, Train Loss: 2.1149, Val Loss: 2.1158\n",
            "Accuracy: 0.2576, F1 Score: 0.1548, Precision: 0.1425, Recall: 0.2576\n",
            "New best model saved with validation loss 2.1158\n"
          ]
        },
        {
          "output_type": "stream",
          "name": "stderr",
          "text": [
            "/usr/local/lib/python3.10/dist-packages/sklearn/metrics/_classification.py:1471: UndefinedMetricWarning: Precision is ill-defined and being set to 0.0 in labels with no predicted samples. Use `zero_division` parameter to control this behavior.\n",
            "  _warn_prf(average, modifier, msg_start, len(result))\n"
          ]
        },
        {
          "output_type": "stream",
          "name": "stdout",
          "text": [
            "Epoch 13/40, Train Loss: 2.1111, Val Loss: 2.1121\n",
            "Accuracy: 0.2589, F1 Score: 0.1566, Precision: 0.2412, Recall: 0.2589\n",
            "New best model saved with validation loss 2.1121\n"
          ]
        },
        {
          "output_type": "stream",
          "name": "stderr",
          "text": [
            "/usr/local/lib/python3.10/dist-packages/sklearn/metrics/_classification.py:1471: UndefinedMetricWarning: Precision is ill-defined and being set to 0.0 in labels with no predicted samples. Use `zero_division` parameter to control this behavior.\n",
            "  _warn_prf(average, modifier, msg_start, len(result))\n"
          ]
        },
        {
          "output_type": "stream",
          "name": "stdout",
          "text": [
            "Epoch 14/40, Train Loss: 2.1071, Val Loss: 2.1084\n",
            "Accuracy: 0.2602, F1 Score: 0.1592, Precision: 0.2487, Recall: 0.2602\n",
            "New best model saved with validation loss 2.1084\n"
          ]
        },
        {
          "output_type": "stream",
          "name": "stderr",
          "text": [
            "/usr/local/lib/python3.10/dist-packages/sklearn/metrics/_classification.py:1471: UndefinedMetricWarning: Precision is ill-defined and being set to 0.0 in labels with no predicted samples. Use `zero_division` parameter to control this behavior.\n",
            "  _warn_prf(average, modifier, msg_start, len(result))\n"
          ]
        },
        {
          "output_type": "stream",
          "name": "stdout",
          "text": [
            "Epoch 15/40, Train Loss: 2.1025, Val Loss: 2.1044\n",
            "Accuracy: 0.2632, F1 Score: 0.1668, Precision: 0.2446, Recall: 0.2632\n",
            "New best model saved with validation loss 2.1044\n"
          ]
        },
        {
          "output_type": "stream",
          "name": "stderr",
          "text": [
            "/usr/local/lib/python3.10/dist-packages/sklearn/metrics/_classification.py:1471: UndefinedMetricWarning: Precision is ill-defined and being set to 0.0 in labels with no predicted samples. Use `zero_division` parameter to control this behavior.\n",
            "  _warn_prf(average, modifier, msg_start, len(result))\n"
          ]
        },
        {
          "output_type": "stream",
          "name": "stdout",
          "text": [
            "Epoch 16/40, Train Loss: 2.0976, Val Loss: 2.1005\n",
            "Accuracy: 0.2639, F1 Score: 0.1686, Precision: 0.2441, Recall: 0.2639\n",
            "New best model saved with validation loss 2.1005\n"
          ]
        },
        {
          "output_type": "stream",
          "name": "stderr",
          "text": [
            "/usr/local/lib/python3.10/dist-packages/sklearn/metrics/_classification.py:1471: UndefinedMetricWarning: Precision is ill-defined and being set to 0.0 in labels with no predicted samples. Use `zero_division` parameter to control this behavior.\n",
            "  _warn_prf(average, modifier, msg_start, len(result))\n"
          ]
        },
        {
          "output_type": "stream",
          "name": "stdout",
          "text": [
            "Epoch 17/40, Train Loss: 2.0924, Val Loss: 2.0956\n",
            "Accuracy: 0.2655, F1 Score: 0.1731, Precision: 0.2274, Recall: 0.2655\n",
            "New best model saved with validation loss 2.0956\n"
          ]
        },
        {
          "output_type": "stream",
          "name": "stderr",
          "text": [
            "/usr/local/lib/python3.10/dist-packages/sklearn/metrics/_classification.py:1471: UndefinedMetricWarning: Precision is ill-defined and being set to 0.0 in labels with no predicted samples. Use `zero_division` parameter to control this behavior.\n",
            "  _warn_prf(average, modifier, msg_start, len(result))\n"
          ]
        },
        {
          "output_type": "stream",
          "name": "stdout",
          "text": [
            "Epoch 18/40, Train Loss: 2.0871, Val Loss: 2.0915\n",
            "Accuracy: 0.2660, F1 Score: 0.1732, Precision: 0.1964, Recall: 0.2660\n",
            "New best model saved with validation loss 2.0915\n"
          ]
        },
        {
          "output_type": "stream",
          "name": "stderr",
          "text": [
            "/usr/local/lib/python3.10/dist-packages/sklearn/metrics/_classification.py:1471: UndefinedMetricWarning: Precision is ill-defined and being set to 0.0 in labels with no predicted samples. Use `zero_division` parameter to control this behavior.\n",
            "  _warn_prf(average, modifier, msg_start, len(result))\n"
          ]
        },
        {
          "output_type": "stream",
          "name": "stdout",
          "text": [
            "Epoch 19/40, Train Loss: 2.0818, Val Loss: 2.0867\n",
            "Accuracy: 0.2670, F1 Score: 0.1776, Precision: 0.1951, Recall: 0.2670\n",
            "New best model saved with validation loss 2.0867\n"
          ]
        },
        {
          "output_type": "stream",
          "name": "stderr",
          "text": [
            "/usr/local/lib/python3.10/dist-packages/sklearn/metrics/_classification.py:1471: UndefinedMetricWarning: Precision is ill-defined and being set to 0.0 in labels with no predicted samples. Use `zero_division` parameter to control this behavior.\n",
            "  _warn_prf(average, modifier, msg_start, len(result))\n"
          ]
        },
        {
          "output_type": "stream",
          "name": "stdout",
          "text": [
            "Epoch 20/40, Train Loss: 2.0761, Val Loss: 2.0818\n",
            "Accuracy: 0.2726, F1 Score: 0.1881, Precision: 0.1933, Recall: 0.2726\n",
            "New best model saved with validation loss 2.0818\n"
          ]
        },
        {
          "output_type": "stream",
          "name": "stderr",
          "text": [
            "/usr/local/lib/python3.10/dist-packages/sklearn/metrics/_classification.py:1471: UndefinedMetricWarning: Precision is ill-defined and being set to 0.0 in labels with no predicted samples. Use `zero_division` parameter to control this behavior.\n",
            "  _warn_prf(average, modifier, msg_start, len(result))\n"
          ]
        },
        {
          "output_type": "stream",
          "name": "stdout",
          "text": [
            "Epoch 21/40, Train Loss: 2.0705, Val Loss: 2.0775\n",
            "Accuracy: 0.2699, F1 Score: 0.1848, Precision: 0.1908, Recall: 0.2699\n",
            "New best model saved with validation loss 2.0775\n"
          ]
        },
        {
          "output_type": "stream",
          "name": "stderr",
          "text": [
            "/usr/local/lib/python3.10/dist-packages/sklearn/metrics/_classification.py:1471: UndefinedMetricWarning: Precision is ill-defined and being set to 0.0 in labels with no predicted samples. Use `zero_division` parameter to control this behavior.\n",
            "  _warn_prf(average, modifier, msg_start, len(result))\n"
          ]
        },
        {
          "output_type": "stream",
          "name": "stdout",
          "text": [
            "Epoch 22/40, Train Loss: 2.0647, Val Loss: 2.0729\n",
            "Accuracy: 0.2786, F1 Score: 0.1961, Precision: 0.1977, Recall: 0.2786\n",
            "New best model saved with validation loss 2.0729\n"
          ]
        },
        {
          "output_type": "stream",
          "name": "stderr",
          "text": [
            "/usr/local/lib/python3.10/dist-packages/sklearn/metrics/_classification.py:1471: UndefinedMetricWarning: Precision is ill-defined and being set to 0.0 in labels with no predicted samples. Use `zero_division` parameter to control this behavior.\n",
            "  _warn_prf(average, modifier, msg_start, len(result))\n"
          ]
        },
        {
          "output_type": "stream",
          "name": "stdout",
          "text": [
            "Epoch 23/40, Train Loss: 2.0592, Val Loss: 2.0682\n",
            "Accuracy: 0.2770, F1 Score: 0.1974, Precision: 0.1925, Recall: 0.2770\n",
            "New best model saved with validation loss 2.0682\n"
          ]
        },
        {
          "output_type": "stream",
          "name": "stderr",
          "text": [
            "/usr/local/lib/python3.10/dist-packages/sklearn/metrics/_classification.py:1471: UndefinedMetricWarning: Precision is ill-defined and being set to 0.0 in labels with no predicted samples. Use `zero_division` parameter to control this behavior.\n",
            "  _warn_prf(average, modifier, msg_start, len(result))\n"
          ]
        },
        {
          "output_type": "stream",
          "name": "stdout",
          "text": [
            "Epoch 24/40, Train Loss: 2.0534, Val Loss: 2.0656\n",
            "Accuracy: 0.2789, F1 Score: 0.1979, Precision: 0.1952, Recall: 0.2789\n",
            "New best model saved with validation loss 2.0656\n"
          ]
        },
        {
          "output_type": "stream",
          "name": "stderr",
          "text": [
            "/usr/local/lib/python3.10/dist-packages/sklearn/metrics/_classification.py:1471: UndefinedMetricWarning: Precision is ill-defined and being set to 0.0 in labels with no predicted samples. Use `zero_division` parameter to control this behavior.\n",
            "  _warn_prf(average, modifier, msg_start, len(result))\n"
          ]
        },
        {
          "output_type": "stream",
          "name": "stdout",
          "text": [
            "Epoch 25/40, Train Loss: 2.0481, Val Loss: 2.0600\n",
            "Accuracy: 0.2845, F1 Score: 0.2061, Precision: 0.1966, Recall: 0.2845\n",
            "New best model saved with validation loss 2.0600\n"
          ]
        },
        {
          "output_type": "stream",
          "name": "stderr",
          "text": [
            "/usr/local/lib/python3.10/dist-packages/sklearn/metrics/_classification.py:1471: UndefinedMetricWarning: Precision is ill-defined and being set to 0.0 in labels with no predicted samples. Use `zero_division` parameter to control this behavior.\n",
            "  _warn_prf(average, modifier, msg_start, len(result))\n"
          ]
        },
        {
          "output_type": "stream",
          "name": "stdout",
          "text": [
            "Epoch 26/40, Train Loss: 2.0428, Val Loss: 2.0554\n",
            "Accuracy: 0.2823, F1 Score: 0.2066, Precision: 0.1931, Recall: 0.2823\n",
            "New best model saved with validation loss 2.0554\n"
          ]
        },
        {
          "output_type": "stream",
          "name": "stderr",
          "text": [
            "/usr/local/lib/python3.10/dist-packages/sklearn/metrics/_classification.py:1471: UndefinedMetricWarning: Precision is ill-defined and being set to 0.0 in labels with no predicted samples. Use `zero_division` parameter to control this behavior.\n",
            "  _warn_prf(average, modifier, msg_start, len(result))\n"
          ]
        },
        {
          "output_type": "stream",
          "name": "stdout",
          "text": [
            "Epoch 27/40, Train Loss: 2.0374, Val Loss: 2.0516\n",
            "Accuracy: 0.2875, F1 Score: 0.2124, Precision: 0.1959, Recall: 0.2875\n",
            "New best model saved with validation loss 2.0516\n"
          ]
        },
        {
          "output_type": "stream",
          "name": "stderr",
          "text": [
            "/usr/local/lib/python3.10/dist-packages/sklearn/metrics/_classification.py:1471: UndefinedMetricWarning: Precision is ill-defined and being set to 0.0 in labels with no predicted samples. Use `zero_division` parameter to control this behavior.\n",
            "  _warn_prf(average, modifier, msg_start, len(result))\n"
          ]
        },
        {
          "output_type": "stream",
          "name": "stdout",
          "text": [
            "Epoch 28/40, Train Loss: 2.0326, Val Loss: 2.0479\n",
            "Accuracy: 0.2864, F1 Score: 0.2128, Precision: 0.1940, Recall: 0.2864\n",
            "New best model saved with validation loss 2.0479\n"
          ]
        },
        {
          "output_type": "stream",
          "name": "stderr",
          "text": [
            "/usr/local/lib/python3.10/dist-packages/sklearn/metrics/_classification.py:1471: UndefinedMetricWarning: Precision is ill-defined and being set to 0.0 in labels with no predicted samples. Use `zero_division` parameter to control this behavior.\n",
            "  _warn_prf(average, modifier, msg_start, len(result))\n"
          ]
        },
        {
          "output_type": "stream",
          "name": "stdout",
          "text": [
            "Epoch 29/40, Train Loss: 2.0274, Val Loss: 2.0443\n",
            "Accuracy: 0.2875, F1 Score: 0.2138, Precision: 0.1958, Recall: 0.2875\n",
            "New best model saved with validation loss 2.0443\n"
          ]
        },
        {
          "output_type": "stream",
          "name": "stderr",
          "text": [
            "/usr/local/lib/python3.10/dist-packages/sklearn/metrics/_classification.py:1471: UndefinedMetricWarning: Precision is ill-defined and being set to 0.0 in labels with no predicted samples. Use `zero_division` parameter to control this behavior.\n",
            "  _warn_prf(average, modifier, msg_start, len(result))\n"
          ]
        },
        {
          "output_type": "stream",
          "name": "stdout",
          "text": [
            "Epoch 30/40, Train Loss: 2.0227, Val Loss: 2.0416\n",
            "Accuracy: 0.2876, F1 Score: 0.2133, Precision: 0.1947, Recall: 0.2876\n",
            "New best model saved with validation loss 2.0416\n"
          ]
        },
        {
          "output_type": "stream",
          "name": "stderr",
          "text": [
            "/usr/local/lib/python3.10/dist-packages/sklearn/metrics/_classification.py:1471: UndefinedMetricWarning: Precision is ill-defined and being set to 0.0 in labels with no predicted samples. Use `zero_division` parameter to control this behavior.\n",
            "  _warn_prf(average, modifier, msg_start, len(result))\n"
          ]
        },
        {
          "output_type": "stream",
          "name": "stdout",
          "text": [
            "Epoch 31/40, Train Loss: 2.0180, Val Loss: 2.0378\n",
            "Accuracy: 0.2885, F1 Score: 0.2158, Precision: 0.1969, Recall: 0.2885\n",
            "New best model saved with validation loss 2.0378\n"
          ]
        },
        {
          "output_type": "stream",
          "name": "stderr",
          "text": [
            "/usr/local/lib/python3.10/dist-packages/sklearn/metrics/_classification.py:1471: UndefinedMetricWarning: Precision is ill-defined and being set to 0.0 in labels with no predicted samples. Use `zero_division` parameter to control this behavior.\n",
            "  _warn_prf(average, modifier, msg_start, len(result))\n"
          ]
        },
        {
          "output_type": "stream",
          "name": "stdout",
          "text": [
            "Epoch 32/40, Train Loss: 2.0135, Val Loss: 2.0343\n",
            "Accuracy: 0.2950, F1 Score: 0.2218, Precision: 0.1994, Recall: 0.2950\n",
            "New best model saved with validation loss 2.0343\n"
          ]
        },
        {
          "output_type": "stream",
          "name": "stderr",
          "text": [
            "/usr/local/lib/python3.10/dist-packages/sklearn/metrics/_classification.py:1471: UndefinedMetricWarning: Precision is ill-defined and being set to 0.0 in labels with no predicted samples. Use `zero_division` parameter to control this behavior.\n",
            "  _warn_prf(average, modifier, msg_start, len(result))\n"
          ]
        },
        {
          "output_type": "stream",
          "name": "stdout",
          "text": [
            "Epoch 33/40, Train Loss: 2.0093, Val Loss: 2.0318\n",
            "Accuracy: 0.2974, F1 Score: 0.2268, Precision: 0.1971, Recall: 0.2974\n",
            "New best model saved with validation loss 2.0318\n"
          ]
        },
        {
          "output_type": "stream",
          "name": "stderr",
          "text": [
            "/usr/local/lib/python3.10/dist-packages/sklearn/metrics/_classification.py:1471: UndefinedMetricWarning: Precision is ill-defined and being set to 0.0 in labels with no predicted samples. Use `zero_division` parameter to control this behavior.\n",
            "  _warn_prf(average, modifier, msg_start, len(result))\n"
          ]
        },
        {
          "output_type": "stream",
          "name": "stdout",
          "text": [
            "Epoch 34/40, Train Loss: 2.0050, Val Loss: 2.0290\n",
            "Accuracy: 0.2981, F1 Score: 0.2245, Precision: 0.2011, Recall: 0.2981\n",
            "New best model saved with validation loss 2.0290\n"
          ]
        },
        {
          "output_type": "stream",
          "name": "stderr",
          "text": [
            "/usr/local/lib/python3.10/dist-packages/sklearn/metrics/_classification.py:1471: UndefinedMetricWarning: Precision is ill-defined and being set to 0.0 in labels with no predicted samples. Use `zero_division` parameter to control this behavior.\n",
            "  _warn_prf(average, modifier, msg_start, len(result))\n"
          ]
        },
        {
          "output_type": "stream",
          "name": "stdout",
          "text": [
            "Epoch 35/40, Train Loss: 2.0009, Val Loss: 2.0257\n",
            "Accuracy: 0.2981, F1 Score: 0.2258, Precision: 0.2121, Recall: 0.2981\n",
            "New best model saved with validation loss 2.0257\n"
          ]
        },
        {
          "output_type": "stream",
          "name": "stderr",
          "text": [
            "/usr/local/lib/python3.10/dist-packages/sklearn/metrics/_classification.py:1471: UndefinedMetricWarning: Precision is ill-defined and being set to 0.0 in labels with no predicted samples. Use `zero_division` parameter to control this behavior.\n",
            "  _warn_prf(average, modifier, msg_start, len(result))\n"
          ]
        },
        {
          "output_type": "stream",
          "name": "stdout",
          "text": [
            "Epoch 36/40, Train Loss: 1.9970, Val Loss: 2.0230\n",
            "Accuracy: 0.2983, F1 Score: 0.2260, Precision: 0.2170, Recall: 0.2983\n",
            "New best model saved with validation loss 2.0230\n"
          ]
        },
        {
          "output_type": "stream",
          "name": "stderr",
          "text": [
            "/usr/local/lib/python3.10/dist-packages/sklearn/metrics/_classification.py:1471: UndefinedMetricWarning: Precision is ill-defined and being set to 0.0 in labels with no predicted samples. Use `zero_division` parameter to control this behavior.\n",
            "  _warn_prf(average, modifier, msg_start, len(result))\n"
          ]
        },
        {
          "output_type": "stream",
          "name": "stdout",
          "text": [
            "Epoch 37/40, Train Loss: 1.9929, Val Loss: 2.0201\n",
            "Accuracy: 0.3000, F1 Score: 0.2282, Precision: 0.2184, Recall: 0.3000\n",
            "New best model saved with validation loss 2.0201\n"
          ]
        },
        {
          "output_type": "stream",
          "name": "stderr",
          "text": [
            "/usr/local/lib/python3.10/dist-packages/sklearn/metrics/_classification.py:1471: UndefinedMetricWarning: Precision is ill-defined and being set to 0.0 in labels with no predicted samples. Use `zero_division` parameter to control this behavior.\n",
            "  _warn_prf(average, modifier, msg_start, len(result))\n"
          ]
        },
        {
          "output_type": "stream",
          "name": "stdout",
          "text": [
            "Epoch 38/40, Train Loss: 1.9889, Val Loss: 2.0180\n",
            "Accuracy: 0.3026, F1 Score: 0.2305, Precision: 0.2138, Recall: 0.3026\n",
            "New best model saved with validation loss 2.0180\n"
          ]
        },
        {
          "output_type": "stream",
          "name": "stderr",
          "text": [
            "/usr/local/lib/python3.10/dist-packages/sklearn/metrics/_classification.py:1471: UndefinedMetricWarning: Precision is ill-defined and being set to 0.0 in labels with no predicted samples. Use `zero_division` parameter to control this behavior.\n",
            "  _warn_prf(average, modifier, msg_start, len(result))\n"
          ]
        },
        {
          "output_type": "stream",
          "name": "stdout",
          "text": [
            "Epoch 39/40, Train Loss: 1.9852, Val Loss: 2.0153\n",
            "Accuracy: 0.3015, F1 Score: 0.2300, Precision: 0.2217, Recall: 0.3015\n",
            "New best model saved with validation loss 2.0153\n"
          ]
        },
        {
          "output_type": "stream",
          "name": "stderr",
          "text": [
            "/usr/local/lib/python3.10/dist-packages/sklearn/metrics/_classification.py:1471: UndefinedMetricWarning: Precision is ill-defined and being set to 0.0 in labels with no predicted samples. Use `zero_division` parameter to control this behavior.\n",
            "  _warn_prf(average, modifier, msg_start, len(result))\n"
          ]
        },
        {
          "output_type": "stream",
          "name": "stdout",
          "text": [
            "Epoch 40/40, Train Loss: 1.9814, Val Loss: 2.0139\n",
            "Accuracy: 0.3004, F1 Score: 0.2281, Precision: 0.2243, Recall: 0.3004\n",
            "New best model saved with validation loss 2.0139\n"
          ]
        },
        {
          "output_type": "display_data",
          "data": {
            "text/plain": [
              "<Figure size 640x480 with 1 Axes>"
            ],
            "image/png": "[encoded data removed]"
          },
          "metadata": {}
        },
        {
          "output_type": "display_data",
          "data": {
            "text/plain": [
              "<Figure size 640x480 with 2 Axes>"
            ],
            "image/png": "[encoded data removed]"
          },
          "metadata": {}
        }
      ],
      "source": [
        "# To start training from scratch\n",
        "train_model(model, train_iterator, val_iterator)"
      ]
    },
    {
      "cell_type": "code",
      "source": [
        "# To resume training from a checkpoint\n",
        "train_model(model, train_iterator, val_iterator, epochs=11, resume=True)"
      ],
      "metadata": {
        "id": "RxhDSYNDOeEM"
      },
      "execution_count": null,
      "outputs": []
    },
    {
      "cell_type": "code",
      "source": [],
      "metadata": {
        "id": "78nc_epWmn9S"
      },
      "execution_count": null,
      "outputs": []
    }
  ]
}